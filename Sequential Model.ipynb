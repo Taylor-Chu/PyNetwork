{
 "cells": [
  {
   "cell_type": "code",
   "execution_count": 1,
   "id": "bb619be7",
   "metadata": {},
   "outputs": [],
   "source": [
    "import numpy as np\n",
    "import matplotlib.pyplot as plt\n",
    "\n",
    "# Note: TensorFlow is not needed for PySoap to work. It's only used to load the dataset\n",
    "import tensorflow as tf\n",
    "\n",
    "import PyNetwork"
   ]
  },
  {
   "cell_type": "code",
   "execution_count": 2,
   "id": "36a26ebc",
   "metadata": {},
   "outputs": [],
   "source": [
    "(x_train, y_train), (x_test, y_test) = tf.keras.datasets.mnist.load_data()\n",
    "\n",
    "x_train = x_train.reshape(*x_train.shape, 1) / 255\n",
    "x_test = x_test.reshape(*x_test.shape, 1) / 255\n",
    "\n",
    "labels = np.eye(10)\n",
    "y_train = labels[y_train]\n",
    "y_test = labels[y_test]"
   ]
  },
  {
   "cell_type": "code",
   "execution_count": 26,
   "id": "c93ce699",
   "metadata": {},
   "outputs": [],
   "source": [
    "model = PyNetwork.Sequential()\n",
    "\n",
    "model.add( PyNetwork.layers.Input((28, 28, 1)) )\n",
    "model.add( PyNetwork.layers.Conv_2D(3, (3, 3), 1, activation_function='relu') )\n",
    "model.add( PyNetwork.layers.Flatten() )\n",
    "model.add( PyNetwork.layers.Dense(100, activation_function='relu', l2=0.0, l1=0.001, \n",
    "                                  trainable_mask=np.random.randint(0, 2, size=(100, 2028))) )\n",
    "model.add( PyNetwork.layers.BatchNorm() )\n",
    "model.add( PyNetwork.layers.Dense(10, activation_function='softmax') )\n",
    "\n",
    "# optimizer = PySoap.optimizers.SGD(learning_rate=0.01, momentum=0.001)\n",
    "model.build(loss_function='cross_entropy', optimizer=\"adam\", metrics = 'accuracy')"
   ]
  },
  {
   "cell_type": "code",
   "execution_count": 27,
   "id": "f9d82811",
   "metadata": {},
   "outputs": [
    {
     "data": {
      "text/plain": [
       "{1: <PyNetwork.layers.Input.Input at 0x29a2d50f0>,\n",
       " 2: <PyNetwork.layers.Convolutional.Conv_2D at 0x29717b9a0>,\n",
       " 3: <PyNetwork.layers.Flatten.Flatten at 0x29a292c20>,\n",
       " 4: <PyNetwork.layers.Dense.Dense at 0x29a2d4f40>,\n",
       " 5: <PyNetwork.layers.BatchNorm.BatchNorm at 0x29a293280>,\n",
       " 6: <PyNetwork.layers.Dense.Dense at 0x29a292b30>}"
      ]
     },
     "execution_count": 27,
     "metadata": {},
     "output_type": "execute_result"
    }
   ],
   "source": [
    "model.layers"
   ]
  },
  {
   "cell_type": "code",
   "execution_count": 28,
   "id": "a460768c",
   "metadata": {},
   "outputs": [],
   "source": [
    "original_weights = model.layers[4].W.copy()\n",
    "mask = model.layers[4].trainable_mask.copy()"
   ]
  },
  {
   "cell_type": "code",
   "execution_count": 29,
   "id": "540bdb5a",
   "metadata": {},
   "outputs": [
    {
     "name": "stdout",
     "output_type": "stream",
     "text": [
      "Input                 :    Input Shape  (None, 28, 28, 1)\n",
      "Conv 2D 3 x (3, 3)    :    Output Shape (None, 26, 26, 3)\n",
      "Flatten               :    Output Shape (None, 2028)\n",
      "Dense (100,)          :    Output Shape (None, 100)\n",
      "Batch Norm            :    Output Shape (None, 100)\n",
      "Dense (10,)           :    Output Shape (None, 10)\n"
     ]
    }
   ],
   "source": [
    "model.summary()"
   ]
  },
  {
   "cell_type": "code",
   "execution_count": 30,
   "id": "c3c57dfb",
   "metadata": {},
   "outputs": [
    {
     "name": "stdout",
     "output_type": "stream",
     "text": [
      "Training on 60000 samples\n",
      "Epoch 1/3\n",
      "cross_entropy: 0.8958 - accuracy: 0.7188\n",
      "Training on 60000 samples\n",
      "Epoch 2/3\n",
      "cross_entropy: 0.8244 - accuracy: 0.7266\n",
      "Training on 60000 samples\n",
      "Epoch 3/3\n",
      "cross_entropy: 1.0565 - accuracy: 0.6797\n",
      "CPU times: user 2min 10s, sys: 46.3 s, total: 2min 56s\n",
      "Wall time: 18.1 s\n"
     ]
    }
   ],
   "source": [
    "%%time\n",
    "model.train(x_train, y_train, epochs=3, batch_size=128, verbose=True)"
   ]
  },
  {
   "cell_type": "code",
   "execution_count": 31,
   "id": "0eeda532",
   "metadata": {},
   "outputs": [
    {
     "data": {
      "text/plain": [
       "'cross_entropy: 0.7261 - accuracy: 0.7736'"
      ]
     },
     "execution_count": 31,
     "metadata": {},
     "output_type": "execute_result"
    }
   ],
   "source": [
    "model.evaluate(x_test, y_test)"
   ]
  },
  {
   "cell_type": "code",
   "execution_count": 32,
   "id": "082cfc84",
   "metadata": {},
   "outputs": [],
   "source": [
    "new_weights = model.layers[4].W.copy()"
   ]
  },
  {
   "cell_type": "code",
   "execution_count": 33,
   "id": "5af3b730",
   "metadata": {},
   "outputs": [
    {
     "data": {
      "text/plain": [
       "True"
      ]
     },
     "execution_count": 33,
     "metadata": {},
     "output_type": "execute_result"
    }
   ],
   "source": [
    "# The non-trainable weights stay the same through out training\n",
    "np.all(original_weights[~mask] == new_weights[~mask])"
   ]
  }
 ],
 "metadata": {
  "kernelspec": {
   "display_name": "Python 3 (ipykernel)",
   "language": "python",
   "name": "python3"
  },
  "language_info": {
   "codemirror_mode": {
    "name": "ipython",
    "version": 3
   },
   "file_extension": ".py",
   "mimetype": "text/x-python",
   "name": "python",
   "nbconvert_exporter": "python",
   "pygments_lexer": "ipython3",
   "version": "3.10.6"
  }
 },
 "nbformat": 4,
 "nbformat_minor": 5
}
