{
 "cells": [
  {
   "cell_type": "code",
   "execution_count": 9,
   "id": "bb619be7",
   "metadata": {},
   "outputs": [],
   "source": [
    "import numpy as np\n",
    "import matplotlib.pyplot as plt\n",
    "\n",
    "import tensorflow as tf  # Note: keras is not needed for PySoap to work\n",
    "\n",
    "import PyNetwork"
   ]
  },
  {
   "cell_type": "code",
   "execution_count": 10,
   "id": "36a26ebc",
   "metadata": {},
   "outputs": [],
   "source": [
    "(x_train, y_train), (x_test, y_test) = tf.keras.datasets.mnist.load_data()\n",
    "\n",
    "x_train = x_train.reshape(*x_train.shape, 1) / 255\n",
    "x_test = x_test.reshape(*x_test.shape, 1) / 255\n",
    "\n",
    "labels = np.eye(10)\n",
    "y_train = labels[y_train]\n",
    "y_test = labels[y_test]"
   ]
  },
  {
   "cell_type": "code",
   "execution_count": 15,
   "id": "05aeadd5",
   "metadata": {},
   "outputs": [],
   "source": [
    "model = PyNetwork.Sequential()\n",
    "\n",
    "model.add( PyNetwork.layers.Input((28, 28, 1)) )\n",
    "# model.add( PyNetwork.layers.Conv_2D(3, (3, 3), 1, activation_function='relu') )\n",
    "model.add( PyNetwork.layers.Flatten() )\n",
    "model.add( PyNetwork.layers.Dense(100, activation_function='relu', l2=0.001) )\n",
    "model.add( PyNetwork.layers.BatchNorm() )\n",
    "model.add( PyNetwork.layers.Dense(10, activation_function='softmax') )\n",
    "\n",
    "# optimizer = PySoap.optimizers.SGD(learning_rate=0.01, momentum=0.001)\n",
    "model.build(loss_function='cross_entropy', optimizer=\"adam\", metrics = 'accuracy')"
   ]
  },
  {
   "cell_type": "code",
   "execution_count": 46,
   "id": "c93ce699",
   "metadata": {},
   "outputs": [],
   "source": [
    "model = PyNetwork.Sequential()\n",
    "\n",
    "model.add( PyNetwork.layers.Input((28, 28, 1)) )\n",
    "model.add( PyNetwork.layers.Conv_2D(3, (3, 3), 1, activation_function='relu') )\n",
    "model.add( PyNetwork.layers.Flatten() )\n",
    "model.add( PyNetwork.layers.Dense(100, activation_function='relu', l2=0.0001) )\n",
    "model.add( PyNetwork.layers.BatchNorm() )\n",
    "model.add( PyNetwork.layers.Dense(10, activation_function='softmax') )\n",
    "\n",
    "# optimizer = PySoap.optimizers.SGD(learning_rate=0.01, momentum=0.001)\n",
    "model.build(loss_function='cross_entropy', optimizer=\"adam\", metrics = 'accuracy')"
   ]
  },
  {
   "cell_type": "code",
   "execution_count": 47,
   "id": "540bdb5a",
   "metadata": {},
   "outputs": [
    {
     "name": "stdout",
     "output_type": "stream",
     "text": [
      "Input                 :    Input Shape  (None, 28, 28, 1)\n",
      "Conv 2D 3 x (3, 3)    :    Output Shape (None, 26, 26, 3)\n",
      "Flatten               :    Output Shape (None, 2028)\n",
      "Dense (100,)          :    Output Shape (None, 100)\n",
      "Batch Norm            :    Output Shape (None, 100)\n",
      "Dense (10,)           :    Output Shape (None, 10)\n"
     ]
    }
   ],
   "source": [
    "model.summary()"
   ]
  },
  {
   "cell_type": "code",
   "execution_count": 48,
   "id": "c3c57dfb",
   "metadata": {},
   "outputs": [
    {
     "name": "stdout",
     "output_type": "stream",
     "text": [
      "Training on 60000 samples\n",
      "Epoch 1/4\n",
      "cross_entropy: 0.2513 - accuracy: 0.9219\n",
      "Training on 60000 samples\n",
      "Epoch 2/4\n",
      "cross_entropy: 0.1775 - accuracy: 0.9609\n",
      "Training on 60000 samples\n",
      "Epoch 3/4\n",
      "cross_entropy: 0.1314 - accuracy: 0.9766\n",
      "Training on 60000 samples\n",
      "Epoch 4/4\n",
      "cross_entropy: 0.1350 - accuracy: 0.9609\n",
      "CPU times: user 2min 46s, sys: 50.7 s, total: 3min 37s\n",
      "Wall time: 22.8 s\n"
     ]
    }
   ],
   "source": [
    "%%time\n",
    "model.train(x_train, y_train, epochs=4, batch_size=128, verbose=True)"
   ]
  },
  {
   "cell_type": "code",
   "execution_count": 49,
   "id": "0eeda532",
   "metadata": {},
   "outputs": [
    {
     "data": {
      "text/plain": [
       "'cross_entropy: 0.1750 - accuracy: 0.9482'"
      ]
     },
     "execution_count": 49,
     "metadata": {},
     "output_type": "execute_result"
    }
   ],
   "source": [
    "model.evaluate(x_test, y_test)"
   ]
  }
 ],
 "metadata": {
  "kernelspec": {
   "display_name": "Python 3 (ipykernel)",
   "language": "python",
   "name": "python3"
  },
  "language_info": {
   "codemirror_mode": {
    "name": "ipython",
    "version": 3
   },
   "file_extension": ".py",
   "mimetype": "text/x-python",
   "name": "python",
   "nbconvert_exporter": "python",
   "pygments_lexer": "ipython3",
   "version": "3.10.6"
  }
 },
 "nbformat": 4,
 "nbformat_minor": 5
}
