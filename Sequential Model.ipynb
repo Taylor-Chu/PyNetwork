{
 "cells": [
  {
   "cell_type": "code",
   "execution_count": 1,
   "id": "bb619be7",
   "metadata": {},
   "outputs": [
    {
     "name": "stderr",
     "output_type": "stream",
     "text": [
      "2023-03-27 13:55:08.319184: I tensorflow/core/platform/cpu_feature_guard.cc:182] This TensorFlow binary is optimized to use available CPU instructions in performance-critical operations.\n",
      "To enable the following instructions: AVX2 FMA, in other operations, rebuild TensorFlow with the appropriate compiler flags.\n"
     ]
    }
   ],
   "source": [
    "import numpy as np\n",
    "import matplotlib.pyplot as plt\n",
    "\n",
    "# Note: TensorFlow is not needed for PyNetwork to work. It's only used to load the dataset\n",
    "import tensorflow as tf\n",
    "\n",
    "import PyNetwork"
   ]
  },
  {
   "cell_type": "code",
   "execution_count": 2,
   "id": "36a26ebc",
   "metadata": {},
   "outputs": [
    {
     "name": "stdout",
     "output_type": "stream",
     "text": [
      "Downloading data from https://storage.googleapis.com/tensorflow/tf-keras-datasets/train-labels-idx1-ubyte.gz\n",
      "29515/29515 [==============================] - 0s 2us/step\n",
      "Downloading data from https://storage.googleapis.com/tensorflow/tf-keras-datasets/train-images-idx3-ubyte.gz\n",
      "26421880/26421880 [==============================] - 4s 0us/step\n",
      "Downloading data from https://storage.googleapis.com/tensorflow/tf-keras-datasets/t10k-labels-idx1-ubyte.gz\n",
      "5148/5148 [==============================] - 0s 0us/step\n",
      "Downloading data from https://storage.googleapis.com/tensorflow/tf-keras-datasets/t10k-images-idx3-ubyte.gz\n",
      "4422102/4422102 [==============================] - 1s 0us/step\n"
     ]
    }
   ],
   "source": [
    "(x_train, y_train), (x_test, y_test) = tf.keras.datasets.fashion_mnist.load_data()\n",
    "\n",
    "shape = (28, 28)\n",
    "x_train = x_train.reshape(-1, *shape) / 255\n",
    "x_test = x_test.reshape(-1, *shape) / 255\n",
    "\n",
    "labels = np.eye(10)\n",
    "\n",
    "\n",
    "y_train = labels[y_train.flatten()]\n",
    "y_test = labels[y_test.flatten()]"
   ]
  },
  {
   "cell_type": "markdown",
   "id": "830ab8e1",
   "metadata": {},
   "source": [
    "# Large Learning Rate"
   ]
  },
  {
   "cell_type": "code",
   "execution_count": 5,
   "id": "c93ce699",
   "metadata": {},
   "outputs": [],
   "source": [
    "model = PyNetwork.Sequential()\n",
    "\n",
    "model.add( PyNetwork.layers.Input((28, 28)) )\n",
    "model.add( PyNetwork.layers.Flatten() )\n",
    "model.add( PyNetwork.layers.Dense(100, activation_function='relu', l2=0.01, l1=0.0) )\n",
    "model.add( PyNetwork.layers.BatchNorm() )\n",
    "model.add( PyNetwork.layers.Dense(10, activation_function='softmax', l2=0.0, l1=0.0) )\n",
    "\n",
    "optimizer = PyNetwork.optimizers.RMSprop(learning_rate=0.0005)\n",
    "model.build(loss_function='cross_entropy', optimizer=optimizer, metrics='accuracy')"
   ]
  },
  {
   "cell_type": "code",
   "execution_count": 6,
   "id": "c3c57dfb",
   "metadata": {},
   "outputs": [
    {
     "name": "stdout",
     "output_type": "stream",
     "text": [
      "Training on 60000 samples\n",
      "Epoch 1/10\n",
      "cross_entropy: 1.9574 - accuracy: 0.3438\n",
      "Training on 60000 samples\n",
      "Epoch 2/10\n",
      "cross_entropy: 1.9962 - accuracy: 0.3359\n",
      "Training on 60000 samples\n",
      "Epoch 3/10\n",
      "cross_entropy: 1.6623 - accuracy: 0.3906\n",
      "Training on 60000 samples\n",
      "Epoch 4/10\n",
      "cross_entropy: 2.0414 - accuracy: 0.2500\n",
      "Training on 60000 samples\n",
      "Epoch 5/10\n",
      "cross_entropy: 1.9959 - accuracy: 0.2734\n",
      "Training on 60000 samples\n",
      "Epoch 6/10\n",
      "cross_entropy: 2.0398 - accuracy: 0.1562\n",
      "Training on 60000 samples\n",
      "Epoch 7/10\n",
      "cross_entropy: 2.2662 - accuracy: 0.1328\n",
      "Training on 60000 samples\n",
      "Epoch 8/10\n",
      "cross_entropy: 2.2575 - accuracy: 0.1484\n",
      "Training on 60000 samples\n",
      "Epoch 9/10\n",
      "cross_entropy: 2.2583 - accuracy: 0.1094\n",
      "Training on 60000 samples\n",
      "Epoch 10/10\n",
      "cross_entropy: 2.2850 - accuracy: 0.1016\n",
      "CPU times: user 1min 2s, sys: 1.69 s, total: 1min 4s\n",
      "Wall time: 11.2 s\n"
     ]
    }
   ],
   "source": [
    "%%time\n",
    "model.train(x_train, y_train, epochs=10, batch_size=128, verbose=True)"
   ]
  },
  {
   "cell_type": "code",
   "execution_count": 7,
   "id": "0eeda532",
   "metadata": {},
   "outputs": [
    {
     "data": {
      "text/plain": [
       "'cross_entropy: 2.2318 - accuracy: 0.1356'"
      ]
     },
     "execution_count": 7,
     "metadata": {},
     "output_type": "execute_result"
    }
   ],
   "source": [
    "model.evaluate(x_test, y_test)"
   ]
  },
  {
   "cell_type": "markdown",
   "id": "d1db713b",
   "metadata": {},
   "source": [
    "# Smaller Learning Rate"
   ]
  },
  {
   "cell_type": "code",
   "execution_count": 9,
   "id": "787ff8f4",
   "metadata": {},
   "outputs": [],
   "source": [
    "model = PyNetwork.Sequential()\n",
    "\n",
    "model.add( PyNetwork.layers.Input((28, 28)) )\n",
    "model.add( PyNetwork.layers.Flatten() )\n",
    "model.add( PyNetwork.layers.Dense(100, activation_function='relu', l2=0.01, l1=0.0) )\n",
    "model.add( PyNetwork.layers.BatchNorm() )\n",
    "model.add( PyNetwork.layers.Dense(10, activation_function='softmax', l2=0.0, l1=0.0) )\n",
    "\n",
    "optimizer = PyNetwork.optimizers.RMSprop(learning_rate=0.0001)\n",
    "model.build(loss_function='cross_entropy', optimizer=optimizer, metrics='accuracy')"
   ]
  },
  {
   "cell_type": "code",
   "execution_count": 10,
   "id": "25f05ca1",
   "metadata": {},
   "outputs": [
    {
     "name": "stdout",
     "output_type": "stream",
     "text": [
      "Training on 60000 samples\n",
      "Epoch 1/10\n",
      "cross_entropy: 1.6821 - accuracy: 0.5391\n",
      "Training on 60000 samples\n",
      "Epoch 2/10\n",
      "cross_entropy: 1.3679 - accuracy: 0.6484\n",
      "Training on 60000 samples\n",
      "Epoch 3/10\n",
      "cross_entropy: 1.1780 - accuracy: 0.7266\n",
      "Training on 60000 samples\n",
      "Epoch 4/10\n",
      "cross_entropy: 0.9567 - accuracy: 0.7734\n",
      "Training on 60000 samples\n",
      "Epoch 5/10\n",
      "cross_entropy: 0.8732 - accuracy: 0.7422\n",
      "Training on 60000 samples\n",
      "Epoch 6/10\n",
      "cross_entropy: 0.9316 - accuracy: 0.7266\n",
      "Training on 60000 samples\n",
      "Epoch 7/10\n",
      "cross_entropy: 0.7509 - accuracy: 0.7422\n",
      "Training on 60000 samples\n",
      "Epoch 8/10\n",
      "cross_entropy: 0.7198 - accuracy: 0.7578\n",
      "Training on 60000 samples\n",
      "Epoch 9/10\n",
      "cross_entropy: 0.5410 - accuracy: 0.8125\n",
      "Training on 60000 samples\n",
      "Epoch 10/10\n",
      "cross_entropy: 0.5575 - accuracy: 0.8281\n",
      "CPU times: user 2min 55s, sys: 9.12 s, total: 3min 5s\n",
      "Wall time: 20.7 s\n"
     ]
    }
   ],
   "source": [
    "%%time\n",
    "model.train(x_train, y_train, epochs=10, batch_size=128, verbose=True)"
   ]
  },
  {
   "cell_type": "code",
   "execution_count": 11,
   "id": "355a3623",
   "metadata": {},
   "outputs": [
    {
     "data": {
      "text/plain": [
       "'cross_entropy: 0.6207 - accuracy: 0.8025'"
      ]
     },
     "execution_count": 11,
     "metadata": {},
     "output_type": "execute_result"
    }
   ],
   "source": [
    "model.evaluate(x_test, y_test)"
   ]
  }
 ],
 "metadata": {
  "kernelspec": {
   "display_name": "Python 3 (ipykernel)",
   "language": "python",
   "name": "python3"
  },
  "language_info": {
   "codemirror_mode": {
    "name": "ipython",
    "version": 3
   },
   "file_extension": ".py",
   "mimetype": "text/x-python",
   "name": "python",
   "nbconvert_exporter": "python",
   "pygments_lexer": "ipython3",
   "version": "3.10.9"
  }
 },
 "nbformat": 4,
 "nbformat_minor": 5
}
