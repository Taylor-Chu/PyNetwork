{
 "cells": [
  {
   "cell_type": "code",
   "execution_count": 1,
   "id": "bb619be7",
   "metadata": {},
   "outputs": [
    {
     "name": "stderr",
     "output_type": "stream",
     "text": [
      "2023-04-04 17:31:09.807257: I tensorflow/core/platform/cpu_feature_guard.cc:182] This TensorFlow binary is optimized to use available CPU instructions in performance-critical operations.\n",
      "To enable the following instructions: AVX2 FMA, in other operations, rebuild TensorFlow with the appropriate compiler flags.\n"
     ]
    }
   ],
   "source": [
    "import numpy as np\n",
    "import matplotlib.pyplot as plt\n",
    "\n",
    "# Note: TensorFlow is not needed for PyNetwork to work. It's only used to load the dataset\n",
    "import tensorflow as tf\n",
    "\n",
    "import PyNetwork\n",
    "\n",
    "import pyopencl as cl\n",
    "import pyopencl.array as cl_array\n",
    "from PyNetwork.gpu.GPUNN import GPUOPERATOR"
   ]
  },
  {
   "cell_type": "code",
   "execution_count": 21,
   "id": "36a26ebc",
   "metadata": {},
   "outputs": [],
   "source": [
    "(x_train, y_train), (x_test, y_test) = tf.keras.datasets.fashion_mnist.load_data()\n",
    "\n",
    "shape = (28, 28)\n",
    "x_train = x_train.reshape(-1, *shape) / 255\n",
    "x_test = x_test.reshape(-1, *shape) / 255\n",
    "\n",
    "labels = np.eye(10)\n",
    "\n",
    "y_train = labels[y_train.flatten()]\n",
    "y_test = labels[y_test.flatten()]"
   ]
  },
  {
   "cell_type": "markdown",
   "id": "830ab8e1",
   "metadata": {},
   "source": [
    "# Large Learning Rate"
   ]
  },
  {
   "cell_type": "code",
   "execution_count": 25,
   "id": "c93ce699",
   "metadata": {},
   "outputs": [],
   "source": [
    "model = PyNetwork.Sequential()\n",
    "\n",
    "model.add( PyNetwork.layers.Input((28, 28)) )\n",
    "model.add( PyNetwork.layers.Flatten() )\n",
    "# model.add( PyNetwork.layers.Dense(100, activation_function='relu', l2=0.01, l1=0.0) )\n",
    "# model.add( PyNetwork.layers.BatchNorm() )\n",
    "model.add( PyNetwork.layers.Dense(10, activation_function='relu', l2=0.0, l1=0.0) )\n",
    "\n",
    "optimizer = PyNetwork.optimizers.RMSprop(learning_rate=0.0005)\n",
    "model.build(loss_function='cross_entropy', optimizer=optimizer, metrics='accuracy')"
   ]
  },
  {
   "cell_type": "code",
   "execution_count": 26,
   "id": "c3c57dfb",
   "metadata": {},
   "outputs": [
    {
     "name": "stdout",
     "output_type": "stream",
     "text": [
      "Training on 60000 samples\n",
      "Epoch 1/10\n",
      "cross_entropy: 1.4482 - accuracy: 0.7969\n",
      "Training on 60000 samples\n",
      "Epoch 2/10\n",
      "cross_entropy: 1.3874 - accuracy: 0.8359\n",
      "Training on 60000 samples\n",
      "Epoch 3/10\n",
      "cross_entropy: 1.2316 - accuracy: 0.8828\n",
      "Training on 60000 samples\n",
      "Epoch 4/10\n",
      "cross_entropy: 1.1010 - accuracy: 0.8359\n",
      "Training on 60000 samples\n",
      "Epoch 5/10\n",
      "cross_entropy: 0.5836 - accuracy: 0.8438\n",
      "Training on 60000 samples\n",
      "Epoch 6/10\n",
      "cross_entropy: 1.0707 - accuracy: 0.8438\n",
      "Training on 60000 samples\n",
      "Epoch 7/10\n",
      "cross_entropy: 0.7937 - accuracy: 0.8281\n",
      "Training on 60000 samples\n",
      "Epoch 8/10\n",
      "cross_entropy: 0.7472 - accuracy: 0.8438\n",
      "Training on 60000 samples\n",
      "Epoch 9/10\n",
      "cross_entropy: 1.4979 - accuracy: 0.8203\n",
      "Training on 60000 samples\n",
      "Epoch 10/10\n",
      "cross_entropy: 1.0117 - accuracy: 0.8594\n",
      "CPU times: user 17.8 s, sys: 910 ms, total: 18.8 s\n",
      "Wall time: 3.46 s\n"
     ]
    }
   ],
   "source": [
    "%%time\n",
    "model.train(x_train, y_train, epochs=10, batch_size=128, verbose=True)"
   ]
  },
  {
   "cell_type": "code",
   "execution_count": 24,
   "id": "0eeda532",
   "metadata": {},
   "outputs": [
    {
     "data": {
      "text/plain": [
       "'cross_entropy: 1.2138 - accuracy: 0.8370'"
      ]
     },
     "execution_count": 24,
     "metadata": {},
     "output_type": "execute_result"
    }
   ],
   "source": [
    "model.evaluate(x_test, y_test)"
   ]
  },
  {
   "cell_type": "markdown",
   "id": "bd74f6be",
   "metadata": {},
   "source": [
    "# Large Learning Rate with GPU"
   ]
  },
  {
   "cell_type": "code",
   "execution_count": 27,
   "id": "7eb8fe26",
   "metadata": {},
   "outputs": [
    {
     "name": "stderr",
     "output_type": "stream",
     "text": [
      "/Users/galen/opt/anaconda3/envs/HPC4M/lib/python3.10/site-packages/pyopencl/cache.py:114: UserWarning: could not obtain cache lock--delete '/Users/galen/Library/Caches/pyopencl/pyopencl-compiler-cache-v2-py3.10.9.final.0/lock' if necessary\n",
      "  warn(\"could not obtain cache lock--delete '%s' if necessary\"\n",
      "/Users/galen/opt/anaconda3/envs/HPC4M/lib/python3.10/site-packages/pyopencl/cache.py:516: UserWarning: PyOpenCL compiler caching failed with an exception:\n",
      "[begin exception]\n",
      "Traceback (most recent call last):\n",
      "  File \"/Users/galen/opt/anaconda3/envs/HPC4M/lib/python3.10/site-packages/pyopencl/cache.py\", line 493, in create_built_program_from_source_cached\n",
      "    _create_built_program_from_source_cached(\n",
      "  File \"/Users/galen/opt/anaconda3/envs/HPC4M/lib/python3.10/site-packages/pyopencl/cache.py\", line 373, in _create_built_program_from_source_cached\n",
      "    cache_result = retrieve_from_cache(cache_dir, cache_key)\n",
      "  File \"/Users/galen/opt/anaconda3/envs/HPC4M/lib/python3.10/site-packages/pyopencl/cache.py\", line 276, in retrieve_from_cache\n",
      "    CacheLockManager(cleanup_m, cache_dir)\n",
      "  File \"/Users/galen/opt/anaconda3/envs/HPC4M/lib/python3.10/site-packages/pyopencl/cache.py\", line 118, in __init__\n",
      "    raise RuntimeError(\"waited more than one minute \"\n",
      "RuntimeError: waited more than one minute on the lock file '/Users/galen/Library/Caches/pyopencl/pyopencl-compiler-cache-v2-py3.10.9.final.0/lock'--something is wrong\n",
      "[end exception]\n",
      "  warn(\"PyOpenCL compiler caching failed with an exception:\\n\"\n"
     ]
    }
   ],
   "source": [
    "platform = cl.get_platforms()\n",
    "devices = platform[0].get_devices()\n",
    "context = cl.Context(devices)\n",
    "queue = cl.CommandQueue(context)\n",
    "gpuoperator = GPUOPERATOR(context=context, queue=queue)\n",
    "\n",
    "model_gpu = PyNetwork.Sequential_GPU(context=context,queue=queue, gpuoperator=gpuoperator)\n",
    "\n",
    "model_gpu.add( PyNetwork.layers.Input_GPU((28, 28)) )\n",
    "model_gpu.add( PyNetwork.layers.Flatten_GPU(context=context, queue=queue, gpuoperator=gpuoperator) )\n",
    "model_gpu.add( PyNetwork.layers.Dense_GPU(hidden_nodes=100, activation_function='relu', l2=0.01, l1=0.0,context=context, queue=queue, gpuoperator=gpuoperator) )\n",
    "model_gpu.add( PyNetwork.layers.BatchNorm_GPU(context=context, queue=queue, gpuoperator=gpuoperator) )\n",
    "model_gpu.add( PyNetwork.layers.Dense_GPU(hidden_nodes=10, activation_function='relu', l2=0.0, l1=0.0, context=context, queue=queue, gpuoperator=gpuoperator) )"
   ]
  },
  {
   "cell_type": "code",
   "execution_count": 9,
   "id": "4c1b0e41",
   "metadata": {},
   "outputs": [
    {
     "ename": "AttributeError",
     "evalue": "'tuple' object has no attribute 'get'",
     "output_type": "error",
     "traceback": [
      "\u001b[0;31m---------------------------------------------------------------------------\u001b[0m",
      "\u001b[0;31mAttributeError\u001b[0m                            Traceback (most recent call last)",
      "Cell \u001b[0;32mIn[9], line 2\u001b[0m\n\u001b[1;32m      1\u001b[0m optimizer \u001b[39m=\u001b[39m PyNetwork\u001b[39m.\u001b[39moptimizers\u001b[39m.\u001b[39mRMSprop_GPU(context\u001b[39m=\u001b[39mcontext,queue\u001b[39m=\u001b[39mqueue, gpuoperator\u001b[39m=\u001b[39mgpuoperator,learning_rate\u001b[39m=\u001b[39m\u001b[39m0.0005\u001b[39m)\n\u001b[0;32m----> 2\u001b[0m model_gpu\u001b[39m.\u001b[39;49mbuild(loss_function\u001b[39m=\u001b[39;49m\u001b[39m'\u001b[39;49m\u001b[39mcross_entropy\u001b[39;49m\u001b[39m'\u001b[39;49m, optimizer\u001b[39m=\u001b[39;49moptimizer, metrics\u001b[39m=\u001b[39;49m\u001b[39m'\u001b[39;49m\u001b[39maccuracy\u001b[39;49m\u001b[39m'\u001b[39;49m)\n",
      "File \u001b[0;32m~/Desktop/Course/Semester 2/HPC/PyNetwork/PyNetwork/Sequential_GPU.py:80\u001b[0m, in \u001b[0;36mSequential_GPU.build\u001b[0;34m(self, loss_function, optimizer, metrics)\u001b[0m\n\u001b[1;32m     78\u001b[0m \u001b[39mfor\u001b[39;00m i \u001b[39min\u001b[39;00m \u001b[39mrange\u001b[39m(\u001b[39m1\u001b[39m, \u001b[39mself\u001b[39m\u001b[39m.\u001b[39mn \u001b[39m+\u001b[39m \u001b[39m1\u001b[39m):\n\u001b[1;32m     79\u001b[0m     layer \u001b[39m=\u001b[39m \u001b[39mself\u001b[39m\u001b[39m.\u001b[39mlayers[i]\n\u001b[0;32m---> 80\u001b[0m     layer\u001b[39m.\u001b[39;49mbuild(previous_output_shape)\n\u001b[1;32m     81\u001b[0m     previous_output_shape \u001b[39m=\u001b[39m layer\u001b[39m.\u001b[39moutput_shape\n",
      "File \u001b[0;32m~/Desktop/Course/Semester 2/HPC/PyNetwork/PyNetwork/layers/Flatten_GPU.py:55\u001b[0m, in \u001b[0;36mFlatten_GPU.build\u001b[0;34m(self, previous_output_shape)\u001b[0m\n\u001b[1;32m     46\u001b[0m \u001b[39m\u001b[39m\u001b[39m\"\"\" Built/initialised the layer\u001b[39;00m\n\u001b[1;32m     47\u001b[0m \n\u001b[1;32m     48\u001b[0m \u001b[39m    Parameters\u001b[39;00m\n\u001b[0;32m   (...)\u001b[0m\n\u001b[1;32m     51\u001b[0m \u001b[39m        The shape of the input into this layer.\u001b[39;00m\n\u001b[1;32m     52\u001b[0m \u001b[39m\"\"\"\u001b[39;00m\n\u001b[1;32m     54\u001b[0m \u001b[39mself\u001b[39m\u001b[39m.\u001b[39minput_shape \u001b[39m=\u001b[39m previous_output_shape\n\u001b[0;32m---> 55\u001b[0m \u001b[39mself\u001b[39m\u001b[39m.\u001b[39moutput_shape \u001b[39m=\u001b[39m (np\u001b[39m.\u001b[39mprod(previous_output_shape\u001b[39m.\u001b[39;49mget()), )\n\u001b[1;32m     57\u001b[0m \u001b[39mself\u001b[39m\u001b[39m.\u001b[39mbuilt \u001b[39m=\u001b[39m \u001b[39mTrue\u001b[39;00m\n",
      "\u001b[0;31mAttributeError\u001b[0m: 'tuple' object has no attribute 'get'"
     ]
    }
   ],
   "source": [
    "optimizer = PyNetwork.optimizers.RMSprop_GPU(context=context,queue=queue, gpuoperator=gpuoperator,learning_rate=0.0005)\n",
    "model_gpu.build(loss_function='cross_entropy', optimizer=optimizer, metrics='accuracy')"
   ]
  },
  {
   "cell_type": "markdown",
   "id": "d1db713b",
   "metadata": {},
   "source": [
    "# Smaller Learning Rate"
   ]
  },
  {
   "cell_type": "code",
   "execution_count": 9,
   "id": "787ff8f4",
   "metadata": {},
   "outputs": [],
   "source": [
    "model = PyNetwork.Sequential()\n",
    "\n",
    "model.add( PyNetwork.layers.Input((28, 28)) )\n",
    "model.add( PyNetwork.layers.Flatten() )\n",
    "model.add( PyNetwork.layers.Dense(100, activation_function='relu', l2=0.01, l1=0.0) )\n",
    "model.add( PyNetwork.layers.BatchNorm() )\n",
    "model.add( PyNetwork.layers.Dense(10, activation_function='relu', l2=0.0, l1=0.0) )\n",
    "\n",
    "optimizer = PyNetwork.optimizers.RMSprop(learning_rate=0.0001)\n",
    "model.build(loss_function='cross_entropy', optimizer=optimizer, metrics='accuracy')"
   ]
  },
  {
   "cell_type": "code",
   "execution_count": 10,
   "id": "25f05ca1",
   "metadata": {},
   "outputs": [
    {
     "name": "stdout",
     "output_type": "stream",
     "text": [
      "Training on 60000 samples\n",
      "Epoch 1/10\n",
      "cross_entropy: 1.6821 - accuracy: 0.5391\n",
      "Training on 60000 samples\n",
      "Epoch 2/10\n",
      "cross_entropy: 1.3679 - accuracy: 0.6484\n",
      "Training on 60000 samples\n",
      "Epoch 3/10\n",
      "cross_entropy: 1.1780 - accuracy: 0.7266\n",
      "Training on 60000 samples\n",
      "Epoch 4/10\n",
      "cross_entropy: 0.9567 - accuracy: 0.7734\n",
      "Training on 60000 samples\n",
      "Epoch 5/10\n",
      "cross_entropy: 0.8732 - accuracy: 0.7422\n",
      "Training on 60000 samples\n",
      "Epoch 6/10\n",
      "cross_entropy: 0.9316 - accuracy: 0.7266\n",
      "Training on 60000 samples\n",
      "Epoch 7/10\n",
      "cross_entropy: 0.7509 - accuracy: 0.7422\n",
      "Training on 60000 samples\n",
      "Epoch 8/10\n",
      "cross_entropy: 0.7198 - accuracy: 0.7578\n",
      "Training on 60000 samples\n",
      "Epoch 9/10\n",
      "cross_entropy: 0.5410 - accuracy: 0.8125\n",
      "Training on 60000 samples\n",
      "Epoch 10/10\n",
      "cross_entropy: 0.5575 - accuracy: 0.8281\n",
      "CPU times: user 2min 55s, sys: 9.12 s, total: 3min 5s\n",
      "Wall time: 20.7 s\n"
     ]
    }
   ],
   "source": [
    "%%time\n",
    "model.train(x_train, y_train, epochs=10, batch_size=128, verbose=True)"
   ]
  },
  {
   "cell_type": "code",
   "execution_count": 11,
   "id": "355a3623",
   "metadata": {},
   "outputs": [
    {
     "data": {
      "text/plain": [
       "'cross_entropy: 0.6207 - accuracy: 0.8025'"
      ]
     },
     "execution_count": 11,
     "metadata": {},
     "output_type": "execute_result"
    }
   ],
   "source": [
    "model.evaluate(x_test, y_test)"
   ]
  },
  {
   "cell_type": "markdown",
   "id": "5622518c",
   "metadata": {},
   "source": [
    "# Test Part\n"
   ]
  },
  {
   "cell_type": "code",
   "execution_count": null,
   "id": "2cbae320",
   "metadata": {},
   "outputs": [],
   "source": []
  }
 ],
 "metadata": {
  "kernelspec": {
   "display_name": "Python 3 (ipykernel)",
   "language": "python",
   "name": "python3"
  },
  "language_info": {
   "codemirror_mode": {
    "name": "ipython",
    "version": 3
   },
   "file_extension": ".py",
   "mimetype": "text/x-python",
   "name": "python",
   "nbconvert_exporter": "python",
   "pygments_lexer": "ipython3",
   "version": "3.10.9"
  },
  "vscode": {
   "interpreter": {
    "hash": "56e85c2a21c690c7db7728ee862ac156a17dbe46757dce862714761b4e87d204"
   }
  }
 },
 "nbformat": 4,
 "nbformat_minor": 5
}
