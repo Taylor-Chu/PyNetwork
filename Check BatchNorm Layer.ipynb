{
 "cells": [
  {
   "attachments": {},
   "cell_type": "markdown",
   "id": "64a72a18",
   "metadata": {},
   "source": [
    "# Tests for BatchNorm Layer\n",
    "\n",
    "To make sure that the output from the GPU is correct, you should test them against what you get with the original CPU implementation. The following code is what you get from the original implementation on the CPU.\n",
    "\n",
    "You should do the same for any other layer you implement."
   ]
  },
  {
   "cell_type": "code",
   "execution_count": 1,
   "id": "e49f726d",
   "metadata": {},
   "outputs": [],
   "source": [
    "import numpy as np\n",
    "\n",
    "import pyopencl as cl\n",
    "import pyopencl.array as cl_array\n",
    "import PyNetwork\n",
    "from PyNetwork.layers.BatchNorm_GPU import BatchNorm_GPU"
   ]
  },
  {
   "cell_type": "code",
   "execution_count": 2,
   "id": "5fba55a3",
   "metadata": {},
   "outputs": [],
   "source": [
    "input_shape = (10,)\n",
    "output_nodes = 100\n",
    "\n",
    "layer = PyNetwork.layers.BatchNorm()\n",
    "layer.build(input_shape)"
   ]
  },
  {
   "cell_type": "code",
   "execution_count": 3,
   "id": "e7cbe47b",
   "metadata": {},
   "outputs": [],
   "source": [
    "platform = cl.get_platforms()\n",
    "devices = platform[0].get_devices()\n",
    "context = cl.Context(devices)\n",
    "queue = cl.CommandQueue(context)\n",
    "\n",
    "layer_gpu = BatchNorm_GPU(context = context, queue = queue)\n",
    "layer_gpu.build(input_shape)"
   ]
  },
  {
   "cell_type": "markdown",
   "id": "2adf5022",
   "metadata": {},
   "source": [
    "# Test Predict"
   ]
  },
  {
   "cell_type": "code",
   "execution_count": 4,
   "id": "0c7ce077",
   "metadata": {},
   "outputs": [],
   "source": [
    "n_datapoints = 20\n",
    "z_in = np.random.rand(n_datapoints, *input_shape).astype(np.float32) - 0.5\n",
    "\n",
    "a_true, z_out_true = layer.predict(z_in, output_only=False)"
   ]
  },
  {
   "cell_type": "code",
   "execution_count": 5,
   "id": "b076f754",
   "metadata": {},
   "outputs": [],
   "source": [
    "z_in_gpu = cl_array.to_device(queue, z_in)\n",
    "a_true_gpu, z_out_true_gpu = layer_gpu.predict(z_in_gpu, output_only=False)"
   ]
  },
  {
   "cell_type": "markdown",
   "id": "da68b92b",
   "metadata": {},
   "source": [
    "# Test Backprop"
   ]
  },
  {
   "cell_type": "code",
   "execution_count": 10,
   "id": "a54700ec",
   "metadata": {},
   "outputs": [
    {
     "ename": "ValueError",
     "evalue": "operands could not be broadcast together with shapes (20,100) (10,) ",
     "output_type": "error",
     "traceback": [
      "\u001b[0;31m---------------------------------------------------------------------------\u001b[0m",
      "\u001b[0;31mValueError\u001b[0m                                Traceback (most recent call last)",
      "Cell \u001b[0;32mIn[10], line 5\u001b[0m\n\u001b[1;32m      2\u001b[0m new_delta \u001b[39m=\u001b[39m np\u001b[39m.\u001b[39mrandom\u001b[39m.\u001b[39mrand(n_datapoints, output_nodes)\u001b[39m.\u001b[39mastype(np\u001b[39m.\u001b[39mfloat32)\n\u001b[1;32m      3\u001b[0m prev_z \u001b[39m=\u001b[39m np\u001b[39m.\u001b[39mrandom\u001b[39m.\u001b[39mrand(n_datapoints, \u001b[39m*\u001b[39minput_shape)\u001b[39m.\u001b[39mastype(np\u001b[39m.\u001b[39mfloat32)\n\u001b[0;32m----> 5\u001b[0m delta_true \u001b[39m=\u001b[39m layer\u001b[39m.\u001b[39;49mget_delta_backprop_(g_prime, new_delta, prev_z)\n",
      "File \u001b[0;32m~/Desktop/Course/Semester 2/HPC/PyNetwork/PyNetwork/layers/BatchNorm.py:297\u001b[0m, in \u001b[0;36mBatchNorm.get_delta_backprop_\u001b[0;34m(self, g_prime, new_delta, prev_z)\u001b[0m\n\u001b[1;32m    273\u001b[0m \u001b[39m\u001b[39m\u001b[39m\"\"\" Returns the delta for the previous layer, delta^{k-1}_{m,j}.\u001b[39;00m\n\u001b[1;32m    274\u001b[0m \n\u001b[1;32m    275\u001b[0m \u001b[39m    Parameters\u001b[39;00m\n\u001b[0;32m   (...)\u001b[0m\n\u001b[1;32m    293\u001b[0m \u001b[39m    and the backwards nature of the back propagation algorithm.\u001b[39;00m\n\u001b[1;32m    294\u001b[0m \u001b[39m\"\"\"\u001b[39;00m\n\u001b[1;32m    295\u001b[0m check_layer(\u001b[39mself\u001b[39m)\n\u001b[0;32m--> 297\u001b[0m dz_ \u001b[39m=\u001b[39m BatchNormGrads\u001b[39m.\u001b[39;49mdz(prev_z, new_delta, \u001b[39mself\u001b[39;49m\u001b[39m.\u001b[39;49mgamma, \u001b[39mself\u001b[39;49m\u001b[39m.\u001b[39;49mepsilon)\n\u001b[1;32m    298\u001b[0m \u001b[39mreturn\u001b[39;00m dz_ \u001b[39m*\u001b[39m prev_z\n",
      "File \u001b[0;32m~/Desktop/Course/Semester 2/HPC/PyNetwork/PyNetwork/layers/BatchNorm.py:163\u001b[0m, in \u001b[0;36mBatchNormGrads.dz\u001b[0;34m(z, new_delta, gamma, epsilon, mu, sigma)\u001b[0m\n\u001b[1;32m    160\u001b[0m     sigma \u001b[39m=\u001b[39m np\u001b[39m.\u001b[39mstd(z, axis\u001b[39m=\u001b[39m\u001b[39m0\u001b[39m)\n\u001b[1;32m    161\u001b[0m m \u001b[39m=\u001b[39m \u001b[39mlen\u001b[39m(z)\n\u001b[0;32m--> 163\u001b[0m dz_hat_ \u001b[39m=\u001b[39m BatchNormGrads\u001b[39m.\u001b[39;49mdz_hat(new_delta, gamma)\n\u001b[1;32m    164\u001b[0m dsigma2_ \u001b[39m=\u001b[39m BatchNormGrads\u001b[39m.\u001b[39mdsigma2(z, dz_hat_, epsilon, mu, sigma)\n\u001b[1;32m    165\u001b[0m dmu_ \u001b[39m=\u001b[39m BatchNormGrads\u001b[39m.\u001b[39mdmu(z, dz_hat_, epsilon, mu, sigma, dsigma2_)\n",
      "File \u001b[0;32m~/Desktop/Course/Semester 2/HPC/PyNetwork/PyNetwork/layers/BatchNorm.py:72\u001b[0m, in \u001b[0;36mBatchNormGrads.dz_hat\u001b[0;34m(new_delta, gamma)\u001b[0m\n\u001b[1;32m     57\u001b[0m \u001b[39m@staticmethod\u001b[39m\n\u001b[1;32m     58\u001b[0m \u001b[39mdef\u001b[39;00m \u001b[39mdz_hat\u001b[39m(new_delta, gamma):\n\u001b[1;32m     59\u001b[0m \u001b[39m    \u001b[39m\u001b[39m\"\"\" Returns dS/d(z_hat) - The gradient with respect to the normalised input of\u001b[39;00m\n\u001b[1;32m     60\u001b[0m \u001b[39m        the batch-norm layer\u001b[39;00m\n\u001b[1;32m     61\u001b[0m \n\u001b[0;32m   (...)\u001b[0m\n\u001b[1;32m     70\u001b[0m \u001b[39m        (N, ...) np.array\u001b[39;00m\n\u001b[1;32m     71\u001b[0m \u001b[39m    \"\"\"\u001b[39;00m\n\u001b[0;32m---> 72\u001b[0m     \u001b[39mreturn\u001b[39;00m new_delta \u001b[39m*\u001b[39;49m gamma\n",
      "\u001b[0;31mValueError\u001b[0m: operands could not be broadcast together with shapes (20,100) (10,) "
     ]
    }
   ],
   "source": [
    "g_prime = np.random.rand(n_datapoints, *input_shape).astype(np.float32)\n",
    "new_delta = np.random.rand(n_datapoints, output_nodes).astype(np.float32)\n",
    "prev_z = np.random.rand(n_datapoints, ).astype(np.float32)\n",
    "\n",
    "delta_true = layer.get_delta_backprop_(g_prime, new_delta, prev_z)"
   ]
  },
  {
   "cell_type": "code",
   "execution_count": 7,
   "id": "e81b0302",
   "metadata": {},
   "outputs": [],
   "source": [
    "g_prime_gpu = cl_array.to_device(queue, g_prime)\n",
    "new_delta_gpu =cl_array.to_device(queue, new_delta)\n",
    "\n",
    "delta_true_gpu = layer_gpu.get_delta_backprop_(g_prime_gpu, new_delta_gpu)"
   ]
  },
  {
   "cell_type": "markdown",
   "id": "97fbc8e7",
   "metadata": {},
   "source": [
    "# Test Weight Gradients"
   ]
  },
  {
   "cell_type": "code",
   "execution_count": 8,
   "id": "cfa1b041",
   "metadata": {},
   "outputs": [],
   "source": [
    "delta = np.random.rand(n_datapoints, *input_shape).astype(np.float32)\n",
    "prev_z = np.random.rand(n_datapoints, output_nodes).astype(np.float32)\n",
    "\n",
    "delta_grad_true, w_grad_true = layer.get_weight_grad_(delta, prev_z)"
   ]
  },
  {
   "cell_type": "code",
   "execution_count": 9,
   "id": "afa20b48",
   "metadata": {},
   "outputs": [],
   "source": [
    "delta_gpu= cl_array.to_device(queue, delta)\n",
    "prev_z_gpu =cl_array.to_device(queue, prev_z)\n",
    "\n",
    "delta_grad_true_gpu, w_grad_true_gpu = layer_gpu.get_weight_grad_(delta_gpu, prev_z_gpu)"
   ]
  }
 ],
 "metadata": {
  "kernelspec": {
   "display_name": "Python 3 (ipykernel)",
   "language": "python",
   "name": "python3"
  },
  "language_info": {
   "codemirror_mode": {
    "name": "ipython",
    "version": 3
   },
   "file_extension": ".py",
   "mimetype": "text/x-python",
   "name": "python",
   "nbconvert_exporter": "python",
   "pygments_lexer": "ipython3",
   "version": "3.10.9"
  }
 },
 "nbformat": 4,
 "nbformat_minor": 5
}
