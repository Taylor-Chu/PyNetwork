{
 "cells": [
  {
   "cell_type": "code",
   "execution_count": 1,
   "metadata": {},
   "outputs": [],
   "source": [
    "import numpy as np\n",
    "\n",
    "import pyopencl as cl\n",
    "import pyopencl.array as cl_array\n",
    "import PyNetwork\n",
    "\n",
    "from PyNetwork.layers.BatchNorm_GPU import BatchNorm_GPU"
   ]
  },
  {
   "cell_type": "code",
   "execution_count": 2,
   "metadata": {},
   "outputs": [],
   "source": [
    "input_shape = (10,)\n",
    "output_nodes = 100\n",
    "\n",
    "layer = PyNetwork.layers.Dense(output_nodes, 'relu')\n",
    "layer.build(input_shape)\n",
    "\n",
    "platform = cl.get_platforms()\n",
    "devices = platform[0].get_devices()\n",
    "context = cl.Context(devices)\n",
    "queue = cl.CommandQueue(context)"
   ]
  },
  {
   "cell_type": "code",
   "execution_count": 3,
   "metadata": {},
   "outputs": [
    {
     "data": {
      "text/plain": [
       "[<pyopencl.Device 'Intel(R) Core(TM) i7-9750H CPU @ 2.60GHz' on 'Apple' at 0xffffffff>,\n",
       " <pyopencl.Device 'Intel(R) UHD Graphics 630' on 'Apple' at 0x1024500>,\n",
       " <pyopencl.Device 'AMD Radeon Pro 5300M Compute Engine' on 'Apple' at 0x1021e00>]"
      ]
     },
     "execution_count": 3,
     "metadata": {},
     "output_type": "execute_result"
    }
   ],
   "source": [
    "devices"
   ]
  },
  {
   "cell_type": "code",
   "execution_count": 4,
   "metadata": {},
   "outputs": [
    {
     "name": "stderr",
     "output_type": "stream",
     "text": [
      "2023-04-04 12:55:36.520040: I tensorflow/core/platform/cpu_feature_guard.cc:182] This TensorFlow binary is optimized to use available CPU instructions in performance-critical operations.\n",
      "To enable the following instructions: AVX2 FMA, in other operations, rebuild TensorFlow with the appropriate compiler flags.\n"
     ]
    }
   ],
   "source": [
    "\n",
    "# Sequential Model\n",
    "import numpy as np\n",
    "import matplotlib.pyplot as plt\n",
    "\n",
    "# Note: TensorFlow is not needed for PyNetwork to work. It's only used to load the dataset\n",
    "import tensorflow as tf\n",
    "\n",
    "import PyNetwork\n",
    "import pyopencl as cl\n",
    "import pyopencl.array as cl_array\n",
    "from PyNetwork.gpu.GPUNN import GPUOPERATOR\n",
    "\n",
    "(x_train, y_train), (x_test, y_test) = tf.keras.datasets.fashion_mnist.load_data()\n",
    "\n",
    "shape = (28, 28)\n",
    "x_train = x_train.reshape(-1, *shape) / 255\n",
    "x_test = x_test.reshape(-1, *shape) / 255\n",
    "\n",
    "labels = np.eye(10)\n",
    "\n",
    "y_train = labels[y_train.flatten()]\n",
    "y_test = labels[y_test.flatten()]\n",
    "\n",
    "platform = cl.get_platforms()\n",
    "devices = platform[0].get_devices()\n",
    "context = cl.Context(devices)\n",
    "queue = cl.CommandQueue(context)\n",
    "gpuoperator = GPUOPERATOR(context=context, queue=queue)"
   ]
  },
  {
   "cell_type": "code",
   "execution_count": 27,
   "metadata": {},
   "outputs": [],
   "source": [
    "x_train_gpu = cl_array.to_device(queue, x_train.astype(np.float32)[:10_000])\n",
    "x_test_gpu = cl_array.to_device(queue, x_test.astype(np.float32))\n",
    "y_train_gpu = cl_array.to_device(queue, y_train.astype(np.float32)[:10_000])\n",
    "y_test_gpu = cl_array.to_device(queue, y_test.astype(np.float32))\n",
    "\n",
    "model_gpu = PyNetwork.Sequential_GPU(context=context,queue=queue, gpuoperator=gpuoperator)\n",
    "\n",
    "model_gpu.add( PyNetwork.layers.Input_GPU((28, 28)) )\n",
    "model_gpu.add( PyNetwork.layers.Flatten_GPU(context=context, queue=queue, gpuoperator=gpuoperator) )\n",
    "model_gpu.add( PyNetwork.layers.Dense_GPU(hidden_nodes=10, activation_function='softmax', l2=0.0, l1=0.0,context=context, queue=queue, gpuoperator=gpuoperator) )\n",
    "#model_gpu.add( PyNetwork.layers.BatchNorm_GPU(context=context, queue=queue, gpuoperator=gpuoperator) )\n",
    "#model_gpu.add( PyNetwork.layers.Dense_GPU(hidden_nodes=10, activation_function='relu', l2=0.0, l1=0.0, context=context, queue=queue, gpuoperator=gpuoperator) )\n",
    "\n",
    "optimizer = PyNetwork.optimizers.RMSprop_GPU(gpuoperator=gpuoperator,learning_rate=np.float32(0.0005))\n",
    "model_gpu.build(loss_function='cross_entropy', optimizer=optimizer, metrics='accuracy')"
   ]
  },
  {
   "cell_type": "code",
   "execution_count": 28,
   "metadata": {},
   "outputs": [
    {
     "name": "stderr",
     "output_type": "stream",
     "text": [
      "/Users/galen/opt/anaconda3/envs/HPC4M/lib/python3.10/site-packages/pyopencl/__init__.py:270: CompilerWarning: Non-empty compiler output encountered. Set the environment variable PYOPENCL_COMPILER_OUTPUT=1 to see more.\n",
      "  warn(\"Non-empty compiler output encountered. Set the \"\n"
     ]
    },
    {
     "data": {
      "text/plain": [
       "'cross_entropy: 2.2591 - accuracy: 0.1375'"
      ]
     },
     "execution_count": 28,
     "metadata": {},
     "output_type": "execute_result"
    }
   ],
   "source": [
    "model_gpu.evaluate(x_train_gpu, y_train_gpu)"
   ]
  },
  {
   "cell_type": "code",
   "execution_count": 29,
   "metadata": {},
   "outputs": [
    {
     "name": "stdout",
     "output_type": "stream",
     "text": [
      "Training on 10000 samples\n",
      "Epoch 1/2\n",
      "cross_entropy: 20.7223 - accuracy: 0.0942\n",
      "Training on 10000 samples\n",
      "Epoch 2/2\n",
      "cross_entropy: 20.7223 - accuracy: 0.0942\n"
     ]
    }
   ],
   "source": [
    "model_gpu.train(x_train_gpu, y_train_gpu, epochs=2, batch_size=128, verbose=True)"
   ]
  },
  {
   "cell_type": "code",
   "execution_count": 23,
   "metadata": {},
   "outputs": [
    {
     "data": {
      "text/plain": [
       "'cross_entropy: 20.7223 - accuracy: 0.0942'"
      ]
     },
     "execution_count": 23,
     "metadata": {},
     "output_type": "execute_result"
    }
   ],
   "source": [
    "model_gpu.evaluate(x_train_gpu, y_train_gpu)"
   ]
  },
  {
   "cell_type": "markdown",
   "metadata": {},
   "source": []
  },
  {
   "cell_type": "code",
   "execution_count": 24,
   "metadata": {},
   "outputs": [
    {
     "name": "stdout",
     "output_type": "stream",
     "text": [
      "Training on 10000 samples\n",
      "Epoch 1/10\n",
      "cross_entropy: 2.5540 - accuracy: 0.0859\n",
      "Training on 10000 samples\n",
      "Epoch 2/10\n",
      "cross_entropy: 2.4996 - accuracy: 0.1094\n",
      "Training on 10000 samples\n",
      "Epoch 3/10\n",
      "cross_entropy: 2.6831 - accuracy: 0.0469\n",
      "Training on 10000 samples\n",
      "Epoch 4/10\n",
      "cross_entropy: 2.6682 - accuracy: 0.0938\n",
      "Training on 10000 samples\n",
      "Epoch 5/10\n",
      "cross_entropy: 2.5137 - accuracy: 0.1016\n",
      "Training on 10000 samples\n",
      "Epoch 6/10\n",
      "cross_entropy: 2.6965 - accuracy: 0.0781\n",
      "Training on 10000 samples\n"
     ]
    },
    {
     "ename": "KeyboardInterrupt",
     "evalue": "",
     "output_type": "error",
     "traceback": [
      "\u001b[0;31m---------------------------------------------------------------------------\u001b[0m",
      "\u001b[0;31mKeyboardInterrupt\u001b[0m                         Traceback (most recent call last)",
      "Cell \u001b[0;32mIn[24], line 1\u001b[0m\n\u001b[0;32m----> 1\u001b[0m model_gpu\u001b[39m.\u001b[39;49mtrain(x_train_gpu, y_train_gpu, epochs\u001b[39m=\u001b[39;49m\u001b[39m10\u001b[39;49m, batch_size\u001b[39m=\u001b[39;49m\u001b[39m128\u001b[39;49m, verbose\u001b[39m=\u001b[39;49m\u001b[39mTrue\u001b[39;49;00m)\n",
      "File \u001b[0;32m~/Desktop/Course/Semester 2/HPC/PyNetwork/PyNetwork/Sequential_GPU.py:228\u001b[0m, in \u001b[0;36mSequential_GPU.train\u001b[0;34m(self, x_train, y_train, epochs, batch_size, verbose)\u001b[0m\n\u001b[1;32m    225\u001b[0m     end \u001b[39m=\u001b[39m start \u001b[39m+\u001b[39m batch_size\n\u001b[1;32m    226\u001b[0m     batch_x, batch_y \u001b[39m=\u001b[39m x_train[start:end]\u001b[39m.\u001b[39mcopy(), y_train[start:end]\u001b[39m.\u001b[39mcopy()\n\u001b[0;32m--> 228\u001b[0m     \u001b[39mself\u001b[39;49m\u001b[39m.\u001b[39;49m_back_prop(batch_x, batch_y)\n\u001b[1;32m    230\u001b[0m \u001b[39mif\u001b[39;00m verbose:\n\u001b[1;32m    231\u001b[0m     start, end \u001b[39m=\u001b[39m index[\u001b[39m5\u001b[39m], index[\u001b[39m5\u001b[39m]\u001b[39m+\u001b[39mbatch_size\n",
      "File \u001b[0;32m~/Desktop/Course/Semester 2/HPC/PyNetwork/PyNetwork/Sequential_GPU.py:298\u001b[0m, in \u001b[0;36mSequential_GPU._back_prop\u001b[0;34m(self, x_train, y_train)\u001b[0m\n\u001b[1;32m    296\u001b[0m         delta_dict[i \u001b[39m-\u001b[39m \u001b[39m1\u001b[39m] \u001b[39m=\u001b[39m \u001b[39mself\u001b[39m\u001b[39m.\u001b[39mlayers[i]\u001b[39m.\u001b[39mget_delta_backprop_(g_prime, delta_dict[i], z_dict[i \u001b[39m-\u001b[39m \u001b[39m1\u001b[39m])\n\u001b[1;32m    297\u001b[0m     \u001b[39melse\u001b[39;00m:\n\u001b[0;32m--> 298\u001b[0m         delta_dict[i \u001b[39m-\u001b[39m \u001b[39m1\u001b[39m] \u001b[39m=\u001b[39m \u001b[39mself\u001b[39;49m\u001b[39m.\u001b[39;49mlayers[i]\u001b[39m.\u001b[39;49mget_delta_backprop_(g_prime, delta_dict[i])\n\u001b[1;32m    300\u001b[0m \u001b[39m# Use Optimizer to find the gradient update\u001b[39;00m\n\u001b[1;32m    301\u001b[0m bias_grads \u001b[39m=\u001b[39m \u001b[39mself\u001b[39m\u001b[39m.\u001b[39moptimizer_bias\u001b[39m.\u001b[39mstep({key: val[\u001b[39m0\u001b[39m] \u001b[39mfor\u001b[39;00m (key, val) \u001b[39min\u001b[39;00m grad_dict\u001b[39m.\u001b[39mitems()})\n",
      "File \u001b[0;32m~/Desktop/Course/Semester 2/HPC/PyNetwork/PyNetwork/layers/Dense_GPU.py:186\u001b[0m, in \u001b[0;36mDense_GPU.get_delta_backprop_\u001b[0;34m(self, g_prime, new_delta, *args)\u001b[0m\n\u001b[1;32m    184\u001b[0m check_layer(\u001b[39mself\u001b[39m)\n\u001b[1;32m    185\u001b[0m \u001b[39m# GPU operations\u001b[39;00m\n\u001b[0;32m--> 186\u001b[0m out \u001b[39m=\u001b[39m g_prime \u001b[39m*\u001b[39m \u001b[39mself\u001b[39;49m\u001b[39m.\u001b[39;49mgpuoperator\u001b[39m.\u001b[39;49mmatmul(new_delta, \u001b[39mself\u001b[39;49m\u001b[39m.\u001b[39;49mW_gpu)\n\u001b[1;32m    188\u001b[0m \u001b[39mreturn\u001b[39;00m out\n",
      "File \u001b[0;32m~/Desktop/Course/Semester 2/HPC/PyNetwork/PyNetwork/gpu/GPUNN.py:192\u001b[0m, in \u001b[0;36mGPUOPERATOR.matmul\u001b[0;34m(self, A, B)\u001b[0m\n\u001b[1;32m    188\u001b[0m C \u001b[39m=\u001b[39m np\u001b[39m.\u001b[39mempty((heightA, widthB), dtype\u001b[39m=\u001b[39mnp\u001b[39m.\u001b[39mfloat32)\n\u001b[1;32m    189\u001b[0m out \u001b[39m=\u001b[39m cl_array\u001b[39m.\u001b[39mto_device(\u001b[39mself\u001b[39m\u001b[39m.\u001b[39mqueue, C)\n\u001b[1;32m    191\u001b[0m \u001b[39mself\u001b[39;49m\u001b[39m.\u001b[39;49mprogram\u001b[39m.\u001b[39;49mmatrixmultiply1d(\u001b[39mself\u001b[39;49m\u001b[39m.\u001b[39;49mqueue, (size, ), \u001b[39mNone\u001b[39;49;00m, \n\u001b[0;32m--> 192\u001b[0m         np\u001b[39m.\u001b[39;49mint32(heightA), np\u001b[39m.\u001b[39;49mint32(widthA), np\u001b[39m.\u001b[39;49mint32(heightB), np\u001b[39m.\u001b[39;49mint32(widthB), A\u001b[39m.\u001b[39;49mdata, B\u001b[39m.\u001b[39;49mdata, out\u001b[39m.\u001b[39;49mdata)\u001b[39m.\u001b[39;49mwait()\n\u001b[1;32m    193\u001b[0m \u001b[39mreturn\u001b[39;00m out\u001b[39m.\u001b[39mreshape((heightA, widthB))\n",
      "\u001b[0;31mKeyboardInterrupt\u001b[0m: "
     ]
    }
   ],
   "source": [
    "model_gpu.train(x_train_gpu, y_train_gpu, epochs=10, batch_size=128, verbose=True)"
   ]
  },
  {
   "cell_type": "code",
   "execution_count": null,
   "metadata": {},
   "outputs": [
    {
     "data": {
      "text/plain": [
       "cl.Array(-2.662994e+30, dtype=float32)"
      ]
     },
     "execution_count": 23,
     "metadata": {},
     "output_type": "execute_result"
    }
   ],
   "source": [
    "cl_array.sum((predictions - y_train_gpu) ** 2) / float(len(predictions))"
   ]
  },
  {
   "cell_type": "code",
   "execution_count": null,
   "metadata": {},
   "outputs": [
    {
     "data": {
      "text/plain": [
       "10000"
      ]
     },
     "execution_count": 10,
     "metadata": {},
     "output_type": "execute_result"
    }
   ],
   "source": [
    "len(predictions)"
   ]
  },
  {
   "cell_type": "code",
   "execution_count": null,
   "metadata": {},
   "outputs": [],
   "source": []
  }
 ],
 "metadata": {
  "kernelspec": {
   "display_name": "HPC4M",
   "language": "python",
   "name": "python3"
  },
  "language_info": {
   "codemirror_mode": {
    "name": "ipython",
    "version": 3
   },
   "file_extension": ".py",
   "mimetype": "text/x-python",
   "name": "python",
   "nbconvert_exporter": "python",
   "pygments_lexer": "ipython3",
   "version": "3.10.9"
  },
  "orig_nbformat": 4,
  "vscode": {
   "interpreter": {
    "hash": "56e85c2a21c690c7db7728ee862ac156a17dbe46757dce862714761b4e87d204"
   }
  }
 },
 "nbformat": 4,
 "nbformat_minor": 2
}
