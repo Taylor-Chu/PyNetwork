{
 "cells": [
  {
   "cell_type": "code",
   "execution_count": 1,
   "metadata": {},
   "outputs": [],
   "source": [
    "import numpy as np\n",
    "\n",
    "import pyopencl as cl\n",
    "import pyopencl.array as cl_array\n",
    "import PyNetwork\n",
    "from PyNetwork.gpu.GPUNN import GPUOPERATOR"
   ]
  },
  {
   "attachments": {},
   "cell_type": "markdown",
   "metadata": {},
   "source": [
    "### Matrix Mulplication Time Comparison\n",
    "\n",
    "- GPU 1d\n",
    "- GPU 2d\n",
    "- GPU 2d with local memory\n",
    "- numpy"
   ]
  },
  {
   "cell_type": "code",
   "execution_count": 15,
   "metadata": {},
   "outputs": [],
   "source": [
    "code = \"\"\"\n",
    "    #define BLOCK_SIZE 16\n",
    "    #define A_BLOCK_STRIDE (BLOCK_SIZE * a_width)\n",
    "    #define A_T_BLOCK_STRIDE (BLOCK_SIZE * a_height)\n",
    "    \n",
    "    __kernel void matrixmultiply1d(int heightA, int widthA, int heightB, int widthB, __global float *A, __global float *B, __global float *out){\n",
    "        int index = get_global_id(0);\n",
    "        int Arow = index / widthB;\n",
    "        int Bcol = index % widthB;\n",
    "        float sum = 0.0f;\n",
    "        for (int i = 0; i < widthA; i++){\n",
    "            sum += A[Arow * widthA + i] * B[i * widthB + Bcol];\n",
    "        }\n",
    "        out[index] = sum;\n",
    "    }\n",
    "\n",
    "    __kernel void matrixmultiply2d(int heightA, int widthA, int heightB, int widthB, __global float *A, __global float *B, __global float *out){\n",
    "        int row = get_global_id(1);\n",
    "        int col = get_global_id(0);\n",
    "    \n",
    "        float sum = 0.0f;\n",
    "        for (int i=0; i < widthA; i++){\n",
    "            sum += A[row * widthA + i] * B[i * widthB + col];\n",
    "        }\n",
    "\n",
    "        out[row*widthB + col] = sum;\n",
    "    }\n",
    "\n",
    "    __kernel void matrixmultiply2dlocal(int heightA, int widthA, int heightB, int widthB, __global float *A, __global float *B, __global float *out){\n",
    "        int local_row = get_local_id(1);\n",
    "        int local_col = get_local_id(0);\n",
    "\n",
    "        int row = get_global_id(1);\n",
    "        int col = get_global_id(0);\n",
    "\n",
    "        __local float Ab[BLOCK_SIZE][BLOCK_SIZE];\n",
    "        __local float Bb[BLOCK_SIZE][BLOCK_SIZE];\n",
    "\n",
    "        int num = widthA / BLOCK_SIZE;\n",
    "        float sum = 0.0f;\n",
    "        \n",
    "        for (int n=0; n < num; n++){\n",
    "            int row_b = n*BLOCK_SIZE + local_row;\n",
    "            int col_b = n*BLOCK_SIZE + local_col;\n",
    "\n",
    "            Ab[local_row][local_col] = A[row*widthA + col_b];\n",
    "            Bb[local_row][local_col] = B[row_b*widthB + col];\n",
    "\n",
    "            barrier(CLK_LOCAL_MEM_FENCE);  \n",
    "\n",
    "            for (int i=0; i < BLOCK_SIZE; i++){\n",
    "                sum += Ab[local_row][i] * Bb[i][local_col];\n",
    "            }  \n",
    "\n",
    "            barrier(CLK_LOCAL_MEM_FENCE);    \n",
    "        }\n",
    "\n",
    "        out[row*widthB + col] = sum;\n",
    "    }\n",
    "\"\"\""
   ]
  },
  {
   "cell_type": "code",
   "execution_count": 21,
   "metadata": {},
   "outputs": [],
   "source": [
    "platform = cl.get_platforms()\n",
    "devices = platform[0].get_devices()\n",
    "context = cl.Context(devices)\n",
    "queue = cl.CommandQueue(context)\n",
    "\n",
    "m, n, p = 2**11, 2**10, 2**11\n",
    "A = np.random.rand(m, n).astype(np.float32)\n",
    "B = np.random.rand(n, p).astype(np.float32)\n",
    "C = np.empty((m, p), dtype=np.float32)\n",
    "size = m * p\n",
    "\n",
    "BLOCK_SIZE = 16\n",
    "local_size = (BLOCK_SIZE, BLOCK_SIZE)\n",
    "\n",
    "A_gpu = cl_array.to_device(queue, A)\n",
    "B_gpu = cl_array.to_device(queue, B)\n",
    "out_gpu = cl_array.to_device(queue, C)\n",
    "\n",
    "program = cl.Program(context, code).build()"
   ]
  },
  {
   "cell_type": "code",
   "execution_count": 22,
   "metadata": {},
   "outputs": [
    {
     "name": "stdout",
     "output_type": "stream",
     "text": [
      "28.2 ms ± 2.92 ms per loop (mean ± std. dev. of 7 runs, 100 loops each)\n"
     ]
    }
   ],
   "source": [
    "%%timeit -r 7 -n 100\n",
    "A @ B"
   ]
  },
  {
   "cell_type": "code",
   "execution_count": 26,
   "metadata": {},
   "outputs": [
    {
     "name": "stdout",
     "output_type": "stream",
     "text": [
      "1.26 ms ± 202 µs per loop (mean ± std. dev. of 7 runs, 100 loops each)\n"
     ]
    }
   ],
   "source": [
    "%%timeit -r 7 -n 100\n",
    "program.matrixmultiply1d(queue, (size, ), None, \n",
    "                np.int32(m), np.int32(n), np.int32(n), np.int32(p), A_gpu.data, B_gpu.data, out_gpu.data)"
   ]
  },
  {
   "cell_type": "code",
   "execution_count": 30,
   "metadata": {},
   "outputs": [
    {
     "name": "stdout",
     "output_type": "stream",
     "text": [
      "2.12 ms ± 243 µs per loop (mean ± std. dev. of 7 runs, 100 loops each)\n"
     ]
    },
    {
     "ename": "",
     "evalue": "",
     "output_type": "error",
     "traceback": [
      "\u001b[1;31mThe Kernel crashed while executing code in the the current cell or a previous cell. Please review the code in the cell(s) to identify a possible cause of the failure. Click <a href='https://aka.ms/vscodeJupyterKernelCrash'>here</a> for more info. View Jupyter <a href='command:jupyter.viewOutput'>log</a> for further details."
     ]
    }
   ],
   "source": [
    "%%timeit -r 7 -n 100\n",
    "program.matrixmultiply2d(queue, (m, p), None, \n",
    "                np.int32(m), np.int32(n), np.int32(n), np.int32(p), A_gpu.data, B_gpu.data, out_gpu.data)"
   ]
  },
  {
   "cell_type": "code",
   "execution_count": 29,
   "metadata": {},
   "outputs": [
    {
     "name": "stdout",
     "output_type": "stream",
     "text": [
      "1.72 ms ± 395 µs per loop (mean ± std. dev. of 7 runs, 100 loops each)\n"
     ]
    }
   ],
   "source": [
    "%%timeit -r 7 -n 100\n",
    "program.matrixmultiply2dlocal(queue, (m, p), local_size, \n",
    "                np.int32(m), np.int32(n), np.int32(n), np.int32(p), A_gpu.data, B_gpu.data, out_gpu.data)"
   ]
  },
  {
   "cell_type": "code",
   "execution_count": null,
   "metadata": {},
   "outputs": [],
   "source": []
  }
 ],
 "metadata": {
  "kernelspec": {
   "display_name": "HPC4M",
   "language": "python",
   "name": "python3"
  },
  "language_info": {
   "codemirror_mode": {
    "name": "ipython",
    "version": 3
   },
   "file_extension": ".py",
   "mimetype": "text/x-python",
   "name": "python",
   "nbconvert_exporter": "python",
   "pygments_lexer": "ipython3",
   "version": "3.10.9"
  },
  "orig_nbformat": 4
 },
 "nbformat": 4,
 "nbformat_minor": 2
}
