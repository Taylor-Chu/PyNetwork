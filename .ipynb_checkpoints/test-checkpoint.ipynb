{
 "cells": [
  {
   "cell_type": "code",
   "execution_count": 1,
   "metadata": {},
   "outputs": [],
   "source": [
    "# Sequential Model\n",
    "import numpy as np\n",
    "import matplotlib.pyplot as plt\n",
    "\n",
    "# Note: TensorFlow is not needed for PyNetwork to work. It's only used to load the dataset\n",
    "import tensorflow as tf\n",
    "\n",
    "import PyNetwork\n",
    "import pyopencl as cl\n",
    "import pyopencl.array as cl_array\n",
    "from PyNetwork.gpu.GPUNN import GPUOPERATOR\n",
    "\n",
    "from PyNetwork.layers.BatchNorm_GPU import BatchNorm_GPU\n",
    "from PyNetwork.functions_GPU import get_error_function_gpu"
   ]
  },
  {
   "cell_type": "code",
   "execution_count": 2,
   "metadata": {},
   "outputs": [],
   "source": [
    "platform = cl.get_platforms()\n",
    "devices = platform[0].get_devices()\n",
    "context = cl.Context(devices)\n",
    "queue = cl.CommandQueue(context)\n",
    "gpuoperator = GPUOPERATOR(context=context, queue=queue)"
   ]
  },
  {
   "cell_type": "code",
   "execution_count": 3,
   "metadata": {},
   "outputs": [],
   "source": [
    "(x_train, y_train), (x_test, y_test) = tf.keras.datasets.mnist.load_data()\n",
    "\n",
    "shape = (28, 28)\n",
    "x_train = x_train.reshape(-1, *shape) / 255\n",
    "x_test = x_test.reshape(-1, *shape) / 255\n",
    "\n",
    "labels = np.eye(10)\n",
    "\n",
    "y_train = labels[y_train.flatten()]\n",
    "y_test = labels[y_test.flatten()]"
   ]
  },
  {
   "cell_type": "code",
   "execution_count": 4,
   "metadata": {},
   "outputs": [],
   "source": [
    "x_train_gpu = cl_array.to_device(queue, x_train.astype(np.float32)[:1_000])\n",
    "x_test_gpu = cl_array.to_device(queue, x_test.astype(np.float32))\n",
    "y_train_gpu = cl_array.to_device(queue, y_train.astype(np.float32)[:1_000])\n",
    "y_test_gpu = cl_array.to_device(queue, y_test.astype(np.float32))\n",
    "\n",
    "model = PyNetwork.Sequential_GPU(context=context, queue=queue, gpuoperator=gpuoperator)\n",
    "\n",
    "model.add( PyNetwork.layers.Input_GPU((28, 28)) )\n",
    "model.add( PyNetwork.layers.Flatten_GPU(context=context, queue=queue, gpuoperator=gpuoperator) )\n",
    "model.add( PyNetwork.layers.Dense_GPU(hidden_nodes=10, activation_function='softmax', \n",
    "                                          l2=0.0, l1=0.0,context=context, queue=queue, gpuoperator=gpuoperator) )\n",
    "\n",
    "optimizer = PyNetwork.optimizers.RMSprop_GPU(gpuoperator=gpuoperator,learning_rate=np.float32(0.005))\n",
    "model.build(loss_function='cross_entropy', optimizer=optimizer, metrics='accuracy')"
   ]
  },
  {
   "cell_type": "code",
   "execution_count": 5,
   "metadata": {},
   "outputs": [
    {
     "name": "stdout",
     "output_type": "stream",
     "text": [
      "Training on 1000 samples\n",
      "Epoch 1/10\n",
      "cross_entropy: 0.9258 - accuracy: 0.8060\n",
      "Training on 1000 samples\n",
      "Epoch 2/10\n",
      "cross_entropy: 0.6718 - accuracy: 0.8640\n",
      "Training on 1000 samples\n",
      "Epoch 3/10\n",
      "cross_entropy: 0.5459 - accuracy: 0.8780\n",
      "Training on 1000 samples\n",
      "Epoch 4/10\n",
      "cross_entropy: 0.4654 - accuracy: 0.8970\n",
      "Training on 1000 samples\n",
      "Epoch 5/10\n",
      "cross_entropy: 0.4027 - accuracy: 0.9070\n",
      "Training on 1000 samples\n",
      "Epoch 6/10\n",
      "cross_entropy: 0.3539 - accuracy: 0.9220\n",
      "Training on 1000 samples\n",
      "Epoch 7/10\n",
      "cross_entropy: 0.3142 - accuracy: 0.9270\n",
      "Training on 1000 samples\n",
      "Epoch 8/10\n",
      "cross_entropy: 0.2810 - accuracy: 0.9370\n",
      "Training on 1000 samples\n",
      "Epoch 9/10\n",
      "cross_entropy: 0.2559 - accuracy: 0.9450\n",
      "Training on 1000 samples\n",
      "Epoch 10/10\n",
      "cross_entropy: 0.2338 - accuracy: 0.9510\n"
     ]
    }
   ],
   "source": [
    "model.train(x_train_gpu, y_train_gpu, epochs=10, batch_size=128, verbose=True)"
   ]
  },
  {
   "cell_type": "code",
   "execution_count": null,
   "metadata": {},
   "outputs": [],
   "source": []
  }
 ],
 "metadata": {
  "kernelspec": {
   "display_name": "Python 3 (ipykernel)",
   "language": "python",
   "name": "python3"
  },
  "language_info": {
   "codemirror_mode": {
    "name": "ipython",
    "version": 3
   },
   "file_extension": ".py",
   "mimetype": "text/x-python",
   "name": "python",
   "nbconvert_exporter": "python",
   "pygments_lexer": "ipython3",
   "version": "3.10.6"
  },
  "vscode": {
   "interpreter": {
    "hash": "56e85c2a21c690c7db7728ee862ac156a17dbe46757dce862714761b4e87d204"
   }
  }
 },
 "nbformat": 4,
 "nbformat_minor": 2
}
