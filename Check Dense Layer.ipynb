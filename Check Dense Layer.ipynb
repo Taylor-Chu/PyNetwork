{
 "cells": [
  {
   "cell_type": "markdown",
   "id": "64a72a18",
   "metadata": {},
   "source": [
    "# Tests for Dense Layer\n",
    "\n",
    "To make sure that the output from the GPU is correct, you should test them against what you get with the original CPU implementation. The following code is what you get from the original implementation on the CPU.\n",
    "\n",
    "You should do the same for any other layer you implement."
   ]
  },
  {
   "cell_type": "code",
   "execution_count": 1,
   "id": "e49f726d",
   "metadata": {},
   "outputs": [],
   "source": [
    "import numpy as np\n",
    "\n",
    "import pyopencl as cl\n",
    "import pyopencl.array as cl_array\n",
    "import PyNetwork\n",
    "from PyNetwork.layers.Dense_GPU import Dense_GPU"
   ]
  },
  {
   "cell_type": "code",
   "execution_count": 2,
   "id": "5fba55a3",
   "metadata": {},
   "outputs": [],
   "source": [
    "input_shape = (10,)\n",
    "output_nodes = 100\n",
    "\n",
    "layer = PyNetwork.layers.Dense(output_nodes, 'relu')\n",
    "layer.build(input_shape)"
   ]
  },
  {
   "cell_type": "code",
   "execution_count": 3,
   "id": "e7cbe47b",
   "metadata": {},
   "outputs": [],
   "source": [
    "platform = cl.get_platforms()\n",
    "devices = platform[0].get_devices()\n",
    "context = cl.Context(devices)\n",
    "queue = cl.CommandQueue(context)\n",
    "\n",
    "layer_gpu = Dense_GPU(context = context, queue = queue, hidden_nodes = output_nodes, activation_function='relu')\n",
    "layer_gpu.build(input_shape)"
   ]
  },
  {
   "cell_type": "markdown",
   "id": "2adf5022",
   "metadata": {},
   "source": [
    "# Test Predict"
   ]
  },
  {
   "cell_type": "code",
   "execution_count": 4,
   "id": "0c7ce077",
   "metadata": {},
   "outputs": [],
   "source": [
    "n_datapoints = 20\n",
    "z_in = np.random.rand(n_datapoints, *input_shape).astype(np.float32) - 0.5\n",
    "\n",
    "a_true, z_out_true = layer.predict(z_in, output_only=False)"
   ]
  },
  {
   "cell_type": "code",
   "execution_count": 5,
   "id": "b076f754",
   "metadata": {},
   "outputs": [],
   "source": [
    "z_in_gpu = cl_array.to_device(queue, z_in)\n",
    "a_true_gpu, z_out_true_gpu = layer_gpu.predict(z_in_gpu, output_only=False)"
   ]
  },
  {
   "cell_type": "markdown",
   "id": "da68b92b",
   "metadata": {},
   "source": [
    "# Test Backprop"
   ]
  },
  {
   "cell_type": "code",
   "execution_count": 6,
   "id": "a54700ec",
   "metadata": {},
   "outputs": [],
   "source": [
    "g_prime = np.random.rand(n_datapoints, *input_shape).astype(np.float32)\n",
    "new_delta = np.random.rand(n_datapoints, output_nodes).astype(np.float32)\n",
    "\n",
    "delta_true = layer.get_delta_backprop_(g_prime, new_delta)"
   ]
  },
  {
   "cell_type": "code",
   "execution_count": 7,
   "id": "e81b0302",
   "metadata": {},
   "outputs": [],
   "source": [
    "g_prime_gpu = cl_array.to_device(queue, g_prime)\n",
    "new_delta_gpu =cl_array.to_device(queue, new_delta)\n",
    "\n",
    "delta_true_gpu = layer_gpu.get_delta_backprop_(g_prime_gpu, new_delta_gpu)"
   ]
  },
  {
   "cell_type": "markdown",
   "id": "97fbc8e7",
   "metadata": {},
   "source": [
    "# Test Weight Gradients"
   ]
  },
  {
   "cell_type": "code",
   "execution_count": 8,
   "id": "cfa1b041",
   "metadata": {},
   "outputs": [],
   "source": [
    "delta = np.random.rand(n_datapoints, *input_shape).astype(np.float32)\n",
    "prev_z = np.random.rand(n_datapoints, output_nodes).astype(np.float32)\n",
    "\n",
    "delta_grad_true, w_grad_true = layer.get_weight_grad_(delta, prev_z)"
   ]
  },
  {
   "cell_type": "code",
   "execution_count": 9,
   "id": "afa20b48",
   "metadata": {},
   "outputs": [],
   "source": [
    "delta_gpu= cl_array.to_device(queue, delta)\n",
    "prev_z_gpu =cl_array.to_device(queue, prev_z)\n",
    "\n",
    "delta_grad_true_gpu, w_grad_true_gpu = layer_gpu.get_weight_grad_(delta_gpu, prev_z_gpu)"
   ]
  },
  {
   "cell_type": "code",
   "execution_count": 10,
   "id": "f3f06867",
   "metadata": {},
   "outputs": [],
   "source": [
    "a = np.array([1,2,5]).astype(np.float32)\n",
    "a_gpu = cl_array.to_device(queue, a)\n",
    "\n",
    "b = np.array([10]).astype(np.float32)\n",
    "b_gpu = cl_array.to_device(queue, b)\n"
   ]
  },
  {
   "cell_type": "code",
   "execution_count": 11,
   "id": "419f9523",
   "metadata": {},
   "outputs": [
    {
     "name": "stderr",
     "output_type": "stream",
     "text": [
      "/Users/galen/opt/anaconda3/envs/HPC4M/lib/python3.10/site-packages/pyopencl/__init__.py:270: CompilerWarning: Non-empty compiler output encountered. Set the environment variable PYOPENCL_COMPILER_OUTPUT=1 to see more.\n",
      "  warn(\"Non-empty compiler output encountered. Set the \"\n"
     ]
    }
   ],
   "source": [
    "x = cl_array.max(a_gpu)"
   ]
  },
  {
   "cell_type": "code",
   "execution_count": 12,
   "id": "fe9962a8",
   "metadata": {},
   "outputs": [],
   "source": [
    "x = np.array([[1,2,3],[4,5,6],[7,8,9]])\n",
    "x_gpu = cl_array.to_device(queue, x)"
   ]
  },
  {
   "cell_type": "code",
   "execution_count": 13,
   "id": "b47465a2",
   "metadata": {},
   "outputs": [
    {
     "data": {
      "text/plain": [
       "array([3, 6, 9])"
      ]
     },
     "execution_count": 13,
     "metadata": {},
     "output_type": "execute_result"
    }
   ],
   "source": [
    "np.max(x, axis=-1)"
   ]
  },
  {
   "cell_type": "code",
   "execution_count": 14,
   "id": "c887731f",
   "metadata": {},
   "outputs": [
    {
     "data": {
      "text/plain": [
       "array([1.e-10], dtype=float32)"
      ]
     },
     "execution_count": 14,
     "metadata": {},
     "output_type": "execute_result"
    }
   ],
   "source": [
    "y = np.array([1e-10]).astype(np.float32)\n",
    "y"
   ]
  },
  {
   "cell_type": "code",
   "execution_count": 15,
   "id": "2d6e176d",
   "metadata": {},
   "outputs": [
    {
     "data": {
      "text/plain": [
       "cl.Array([1.e-10], dtype=float32)"
      ]
     },
     "execution_count": 15,
     "metadata": {},
     "output_type": "execute_result"
    }
   ],
   "source": [
    "ep = cl_array.to_device(queue, y)\n",
    "ep"
   ]
  },
  {
   "cell_type": "code",
   "execution_count": 16,
   "id": "9cdd7eb4",
   "metadata": {},
   "outputs": [],
   "source": [
    "from PyNetwork.gpu.GPUNN import GPUOPERATOR"
   ]
  },
  {
   "cell_type": "code",
   "execution_count": 17,
   "id": "4352b07c",
   "metadata": {},
   "outputs": [],
   "source": [
    "op = GPUOPERATOR(context=context, queue=queue)"
   ]
  },
  {
   "cell_type": "code",
   "execution_count": 18,
   "id": "e528a064",
   "metadata": {},
   "outputs": [
    {
     "data": {
      "text/plain": [
       "(1, 10)"
      ]
     },
     "execution_count": 18,
     "metadata": {},
     "output_type": "execute_result"
    }
   ],
   "source": [
    "op.repeat(ep, 10).shape"
   ]
  },
  {
   "cell_type": "code",
   "execution_count": 19,
   "id": "24d34691",
   "metadata": {},
   "outputs": [],
   "source": [
    "std = np.array([1,2,3,6,4,5]).astype(np.float32)"
   ]
  },
  {
   "cell_type": "code",
   "execution_count": 20,
   "id": "89f8dc4e",
   "metadata": {},
   "outputs": [],
   "source": [
    "std_gpu = cl_array.to_device(queue, std)"
   ]
  },
  {
   "cell_type": "code",
   "execution_count": 21,
   "id": "e1abc270",
   "metadata": {},
   "outputs": [
    {
     "data": {
      "text/plain": [
       "cl.Array([[1., 2., 3., 6., 4., 5.]], dtype=float32)"
      ]
     },
     "execution_count": 21,
     "metadata": {},
     "output_type": "execute_result"
    }
   ],
   "source": [
    "std_gpu.reshape(1, -1)"
   ]
  },
  {
   "cell_type": "code",
   "execution_count": 22,
   "id": "7cce6805",
   "metadata": {},
   "outputs": [],
   "source": [
    "a = std_gpu.reshape(1, -1) + op.repeat(ep, 6)"
   ]
  },
  {
   "cell_type": "code",
   "execution_count": 23,
   "id": "f99e9ddf",
   "metadata": {},
   "outputs": [
    {
     "data": {
      "text/plain": [
       "cl.Array([1., 2., 3., 6., 4., 5.], dtype=float32)"
      ]
     },
     "execution_count": 23,
     "metadata": {},
     "output_type": "execute_result"
    }
   ],
   "source": [
    "a.squeeze()"
   ]
  },
  {
   "cell_type": "code",
   "execution_count": null,
   "id": "abeb569f",
   "metadata": {},
   "outputs": [],
   "source": []
  },
  {
   "cell_type": "code",
   "execution_count": 29,
   "id": "d3de3451",
   "metadata": {},
   "outputs": [
    {
     "data": {
      "text/plain": [
       "cl.Array([1.        , 0.5       , 0.33333334, 0.16666667, 0.25      ,\n",
       "       0.2       ], dtype=float32)"
      ]
     },
     "execution_count": 29,
     "metadata": {},
     "output_type": "execute_result"
    }
   ],
   "source": [
    "1 / std_gpu "
   ]
  },
  {
   "cell_type": "code",
   "execution_count": 30,
   "id": "92ff6200",
   "metadata": {},
   "outputs": [
    {
     "data": {
      "text/plain": [
       "6"
      ]
     },
     "execution_count": 30,
     "metadata": {},
     "output_type": "execute_result"
    }
   ],
   "source": [
    "len(std_gpu)"
   ]
  },
  {
   "cell_type": "code",
   "execution_count": null,
   "id": "7ba7689d",
   "metadata": {},
   "outputs": [],
   "source": []
  },
  {
   "cell_type": "code",
   "execution_count": 24,
   "id": "7291039c",
   "metadata": {},
   "outputs": [
    {
     "data": {
      "text/plain": [
       "cl.Array([1.e-10], dtype=float32)"
      ]
     },
     "execution_count": 24,
     "metadata": {},
     "output_type": "execute_result"
    }
   ],
   "source": [
    "ep"
   ]
  },
  {
   "cell_type": "code",
   "execution_count": 25,
   "id": "13c834d8",
   "metadata": {},
   "outputs": [
    {
     "data": {
      "text/plain": [
       "cl.Array([1.e-10, 0.e+00, 0.e+00, 0.e+00, 0.e+00, 0.e+00], dtype=float32)"
      ]
     },
     "execution_count": 25,
     "metadata": {},
     "output_type": "execute_result"
    }
   ],
   "source": [
    "op.broadcast_scalar(ep, std_gpu)"
   ]
  },
  {
   "cell_type": "code",
   "execution_count": null,
   "id": "86bc288e",
   "metadata": {},
   "outputs": [],
   "source": []
  }
 ],
 "metadata": {
  "kernelspec": {
   "display_name": "Python 3 (ipykernel)",
   "language": "python",
   "name": "python3"
  },
  "language_info": {
   "codemirror_mode": {
    "name": "ipython",
    "version": 3
   },
   "file_extension": ".py",
   "mimetype": "text/x-python",
   "name": "python",
   "nbconvert_exporter": "python",
   "pygments_lexer": "ipython3",
   "version": "3.10.9"
  }
 },
 "nbformat": 4,
 "nbformat_minor": 5
}
