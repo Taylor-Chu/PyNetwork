{
 "cells": [
  {
   "cell_type": "markdown",
   "id": "64a72a18",
   "metadata": {},
   "source": [
    "# Tests for Dense Layer\n",
    "\n",
    "To make sure that the output from the GPU is correct, you should test them against what you get with the original CPU implementation. The following code is what you get from the original implementation on the CPU.\n",
    "\n",
    "You should do the same for any other layer you implement."
   ]
  },
  {
   "cell_type": "code",
   "execution_count": 1,
   "id": "e49f726d",
   "metadata": {},
   "outputs": [],
   "source": [
    "import numpy as np\n",
    "\n",
    "import pyopencl as cl\n",
    "import pyopencl.array as cl_array\n",
    "import PyNetwork\n",
    "from PyNetwork.layers.Dense_GPU import Dense_GPU"
   ]
  },
  {
   "cell_type": "code",
   "execution_count": 2,
   "id": "5fba55a3",
   "metadata": {},
   "outputs": [],
   "source": [
    "input_shape = (10,)\n",
    "output_nodes = 100\n",
    "\n",
    "layer = PyNetwork.layers.Dense(output_nodes, 'relu')\n",
    "layer.build(input_shape)"
   ]
  },
  {
   "cell_type": "code",
   "execution_count": 3,
   "id": "e7cbe47b",
   "metadata": {},
   "outputs": [],
   "source": [
    "platform = cl.get_platforms()\n",
    "devices = platform[0].get_devices()\n",
    "context = cl.Context(devices)\n",
    "queue = cl.CommandQueue(context)\n",
    "\n",
    "layer_gpu = Dense_GPU(context = context, queue = queue, hidden_nodes = output_nodes, activation_function='relu')\n",
    "layer_gpu.build(input_shape)"
   ]
  },
  {
   "cell_type": "markdown",
   "id": "2adf5022",
   "metadata": {},
   "source": [
    "# Test Predict"
   ]
  },
  {
   "cell_type": "code",
   "execution_count": 4,
   "id": "0c7ce077",
   "metadata": {},
   "outputs": [],
   "source": [
    "n_datapoints = 20\n",
    "z_in = np.random.rand(n_datapoints, *input_shape).astype(np.float32) - 0.5\n",
    "\n",
    "a_true, z_out_true = layer.predict(z_in, output_only=False)"
   ]
  },
  {
   "cell_type": "code",
   "execution_count": 6,
   "id": "b076f754",
   "metadata": {},
   "outputs": [
    {
     "ename": "AssertionError",
     "evalue": "Cannot do matrix multiplication.",
     "output_type": "error",
     "traceback": [
      "\u001b[0;31m---------------------------------------------------------------------------\u001b[0m",
      "\u001b[0;31mAssertionError\u001b[0m                            Traceback (most recent call last)",
      "Cell \u001b[0;32mIn[6], line 2\u001b[0m\n\u001b[1;32m      1\u001b[0m z_in_gpu \u001b[39m=\u001b[39m cl_array\u001b[39m.\u001b[39mto_device(queue, z_in)\n\u001b[0;32m----> 2\u001b[0m a_true_gpu, z_out_true_gpu \u001b[39m=\u001b[39m layer_gpu\u001b[39m.\u001b[39;49mpredict(z_in_gpu, output_only\u001b[39m=\u001b[39;49m\u001b[39mFalse\u001b[39;49;00m)\n",
      "File \u001b[0;32m~/Desktop/Course/Semester 2/HPC/PyNetwork/PyNetwork/layers/Dense_GPU.py:153\u001b[0m, in \u001b[0;36mDense_GPU.predict\u001b[0;34m(self, z, output_only, **kwargs)\u001b[0m\n\u001b[1;32m    150\u001b[0m check_layer(\u001b[39mself\u001b[39m)\n\u001b[1;32m    152\u001b[0m \u001b[39m# GPU operations\u001b[39;00m\n\u001b[0;32m--> 153\u001b[0m out_a \u001b[39m=\u001b[39m \u001b[39mself\u001b[39m\u001b[39m.\u001b[39mgpuoperator\u001b[39m.\u001b[39madd(\u001b[39mself\u001b[39;49m\u001b[39m.\u001b[39;49mgpuoperator\u001b[39m.\u001b[39;49mmatmul(z, \u001b[39mself\u001b[39;49m\u001b[39m.\u001b[39;49mgpuoperator\u001b[39m.\u001b[39;49mtranspose(\u001b[39mself\u001b[39;49m\u001b[39m.\u001b[39;49mW_gpu)), \u001b[39mself\u001b[39m\u001b[39m.\u001b[39mb_gpu)\n\u001b[1;32m    155\u001b[0m \u001b[39mif\u001b[39;00m output_only:\n\u001b[1;32m    156\u001b[0m     \u001b[39mreturn\u001b[39;00m \u001b[39mself\u001b[39m\u001b[39m.\u001b[39mactivation_function_(out_a)\n",
      "File \u001b[0;32m~/Desktop/Course/Semester 2/HPC/PyNetwork/PyNetwork/gpu/GPUNN.py:91\u001b[0m, in \u001b[0;36mGPUOPERATOR.matmul\u001b[0;34m(self, A, B)\u001b[0m\n\u001b[1;32m     89\u001b[0m heightA, widthA \u001b[39m=\u001b[39m A\u001b[39m.\u001b[39mshape\n\u001b[1;32m     90\u001b[0m heightB, widthB \u001b[39m=\u001b[39m B\u001b[39m.\u001b[39mshape\n\u001b[0;32m---> 91\u001b[0m \u001b[39massert\u001b[39;00m widthA \u001b[39m==\u001b[39m heightB, \u001b[39m\"\u001b[39m\u001b[39mCannot do matrix multiplication.\u001b[39m\u001b[39m\"\u001b[39m\n\u001b[1;32m     92\u001b[0m C \u001b[39m=\u001b[39m np\u001b[39m.\u001b[39mempty((heightA, widthB), dtype\u001b[39m=\u001b[39mnp\u001b[39m.\u001b[39mfloat32)\n\u001b[1;32m     93\u001b[0m out \u001b[39m=\u001b[39m cl_array\u001b[39m.\u001b[39mto_device(\u001b[39mself\u001b[39m\u001b[39m.\u001b[39mqueue, C)\n",
      "\u001b[0;31mAssertionError\u001b[0m: Cannot do matrix multiplication."
     ]
    }
   ],
   "source": [
    "z_in_gpu = cl_array.to_device(queue, z_in)\n",
    "a_true_gpu, z_out_true_gpu = layer_gpu.predict(z_in_gpu, output_only=False)"
   ]
  },
  {
   "cell_type": "code",
   "execution_count": 10,
   "id": "ac9ea61e",
   "metadata": {},
   "outputs": [
    {
     "ename": "ValueError",
     "evalue": "\nerror during assertion:\n\nTypeError: float() argument must be a string or a real number, not 'Array'\n\nThe above exception was the direct cause of the following exception:\n\nTraceback (most recent call last):\n  File \"/Users/galen/opt/anaconda3/envs/HPC4M/lib/python3.10/site-packages/numpy/testing/_private/utils.py\", line 792, in assert_array_compare\n    val = comparison(x, y)\n  File \"/Users/galen/opt/anaconda3/envs/HPC4M/lib/python3.10/site-packages/numpy/testing/_private/utils.py\", line 1042, in compare\n    z = z.astype(float_)  # handle object arrays\nValueError: setting an array element with a sequence.\n\n\nArrays are not almost equal to 2 decimals\n x: array([[cl.Array(0.11032537, dtype=float32),\n        cl.Array(-0.02626567, dtype=float32),\n        cl.Array(0.03026463, dtype=float32), ...,...\n y: array([[ 0.11, -0.03,  0.03, ...,  0.1 ,  0.12, -0.  ],\n       [ 0.18,  0.16, -0.09, ...,  0.08,  0.1 ,  0.16],\n       [-0.08,  0.06,  0.09, ..., -0.04, -0.1 , -0.07],...",
     "output_type": "error",
     "traceback": [
      "\u001b[0;31m---------------------------------------------------------------------------\u001b[0m",
      "\u001b[0;31mTypeError\u001b[0m                                 Traceback (most recent call last)",
      "\u001b[0;31mTypeError\u001b[0m: float() argument must be a string or a real number, not 'Array'",
      "\nThe above exception was the direct cause of the following exception:\n",
      "\u001b[0;31mValueError\u001b[0m                                Traceback (most recent call last)",
      "    \u001b[0;31m[... skipping hidden 1 frame]\u001b[0m\n",
      "File \u001b[0;32m~/opt/anaconda3/envs/HPC4M/lib/python3.10/site-packages/numpy/testing/_private/utils.py:1042\u001b[0m, in \u001b[0;36massert_array_almost_equal.<locals>.compare\u001b[0;34m(x, y)\u001b[0m\n\u001b[1;32m   1041\u001b[0m \u001b[39mif\u001b[39;00m \u001b[39mnot\u001b[39;00m issubdtype(z\u001b[39m.\u001b[39mdtype, number):\n\u001b[0;32m-> 1042\u001b[0m     z \u001b[39m=\u001b[39m z\u001b[39m.\u001b[39;49mastype(float_)  \u001b[39m# handle object arrays\u001b[39;00m\n\u001b[1;32m   1044\u001b[0m \u001b[39mreturn\u001b[39;00m z \u001b[39m<\u001b[39m \u001b[39m1.5\u001b[39m \u001b[39m*\u001b[39m \u001b[39m10.0\u001b[39m\u001b[39m*\u001b[39m\u001b[39m*\u001b[39m(\u001b[39m-\u001b[39mdecimal)\n",
      "\u001b[0;31mValueError\u001b[0m: setting an array element with a sequence.",
      "\nDuring handling of the above exception, another exception occurred:\n",
      "\u001b[0;31mValueError\u001b[0m                                Traceback (most recent call last)",
      "Cell \u001b[0;32mIn[10], line 1\u001b[0m\n\u001b[0;32m----> 1\u001b[0m np\u001b[39m.\u001b[39;49mtesting\u001b[39m.\u001b[39;49massert_almost_equal(a_true_gpu, a_true, decimal\u001b[39m=\u001b[39;49m\u001b[39m2\u001b[39;49m)\n",
      "    \u001b[0;31m[... skipping hidden 2 frame]\u001b[0m\n",
      "File \u001b[0;32m~/opt/anaconda3/envs/HPC4M/lib/python3.10/site-packages/numpy/testing/_private/utils.py:852\u001b[0m, in \u001b[0;36massert_array_compare\u001b[0;34m(comparison, x, y, err_msg, verbose, header, precision, equal_nan, equal_inf)\u001b[0m\n\u001b[1;32m    848\u001b[0m header \u001b[39m=\u001b[39m \u001b[39mf\u001b[39m\u001b[39m'\u001b[39m\u001b[39merror during assertion:\u001b[39m\u001b[39m\\n\u001b[39;00m\u001b[39m\\n\u001b[39;00m\u001b[39m{\u001b[39;00mefmt\u001b[39m}\u001b[39;00m\u001b[39m\\n\u001b[39;00m\u001b[39m\\n\u001b[39;00m\u001b[39m{\u001b[39;00mheader\u001b[39m}\u001b[39;00m\u001b[39m'\u001b[39m\n\u001b[1;32m    850\u001b[0m msg \u001b[39m=\u001b[39m build_err_msg([x, y], err_msg, verbose\u001b[39m=\u001b[39mverbose, header\u001b[39m=\u001b[39mheader,\n\u001b[1;32m    851\u001b[0m                     names\u001b[39m=\u001b[39m(\u001b[39m'\u001b[39m\u001b[39mx\u001b[39m\u001b[39m'\u001b[39m, \u001b[39m'\u001b[39m\u001b[39my\u001b[39m\u001b[39m'\u001b[39m), precision\u001b[39m=\u001b[39mprecision)\n\u001b[0;32m--> 852\u001b[0m \u001b[39mraise\u001b[39;00m \u001b[39mValueError\u001b[39;00m(msg)\n",
      "\u001b[0;31mValueError\u001b[0m: \nerror during assertion:\n\nTypeError: float() argument must be a string or a real number, not 'Array'\n\nThe above exception was the direct cause of the following exception:\n\nTraceback (most recent call last):\n  File \"/Users/galen/opt/anaconda3/envs/HPC4M/lib/python3.10/site-packages/numpy/testing/_private/utils.py\", line 792, in assert_array_compare\n    val = comparison(x, y)\n  File \"/Users/galen/opt/anaconda3/envs/HPC4M/lib/python3.10/site-packages/numpy/testing/_private/utils.py\", line 1042, in compare\n    z = z.astype(float_)  # handle object arrays\nValueError: setting an array element with a sequence.\n\n\nArrays are not almost equal to 2 decimals\n x: array([[cl.Array(0.11032537, dtype=float32),\n        cl.Array(-0.02626567, dtype=float32),\n        cl.Array(0.03026463, dtype=float32), ...,...\n y: array([[ 0.11, -0.03,  0.03, ...,  0.1 ,  0.12, -0.  ],\n       [ 0.18,  0.16, -0.09, ...,  0.08,  0.1 ,  0.16],\n       [-0.08,  0.06,  0.09, ..., -0.04, -0.1 , -0.07],..."
     ]
    }
   ],
   "source": [
    "np.testing.assert_almost_equal(a_true_gpu, a_true, decimal=2)"
   ]
  },
  {
   "cell_type": "markdown",
   "id": "da68b92b",
   "metadata": {},
   "source": [
    "# Test Backprop"
   ]
  },
  {
   "cell_type": "code",
   "execution_count": 4,
   "id": "a54700ec",
   "metadata": {},
   "outputs": [],
   "source": [
    "g_prime = np.random.rand(n_datapoints, *input_shape).astype(np.float32)\n",
    "new_delta = np.random.rand(n_datapoints, output_nodes).astype(np.float32)\n",
    "\n",
    "delta_true = layer.get_delta_backprop_(g_prime, new_delta)"
   ]
  },
  {
   "cell_type": "markdown",
   "id": "97fbc8e7",
   "metadata": {},
   "source": [
    "# Test Weight Gradients"
   ]
  },
  {
   "cell_type": "code",
   "execution_count": 5,
   "id": "cfa1b041",
   "metadata": {},
   "outputs": [],
   "source": [
    "delta = np.random.rand(n_datapoints, *input_shape).astype(np.float32)\n",
    "prev_z = np.random.rand(n_datapoints, output_nodes).astype(np.float32)"
   ]
  },
  {
   "cell_type": "code",
   "execution_count": 6,
   "id": "10fb1146",
   "metadata": {},
   "outputs": [],
   "source": [
    "delta_grad_true, w_grad_true = layer.get_weight_grad_(delta, prev_z)"
   ]
  },
  {
   "cell_type": "code",
   "execution_count": null,
   "id": "70495565",
   "metadata": {},
   "outputs": [],
   "source": []
  }
 ],
 "metadata": {
  "kernelspec": {
   "display_name": "Python 3 (ipykernel)",
   "language": "python",
   "name": "python3"
  },
  "language_info": {
   "codemirror_mode": {
    "name": "ipython",
    "version": 3
   },
   "file_extension": ".py",
   "mimetype": "text/x-python",
   "name": "python",
   "nbconvert_exporter": "python",
   "pygments_lexer": "ipython3",
   "version": "3.10.9"
  }
 },
 "nbformat": 4,
 "nbformat_minor": 5
}
