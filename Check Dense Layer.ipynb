{
 "cells": [
  {
   "cell_type": "markdown",
   "id": "64a72a18",
   "metadata": {},
   "source": [
    "# Tests for Dense Layer\n",
    "\n",
    "To make sure that the output from the GPU is correct, you should test them against what you get with the original CPU implementation. The following code is what you get from the original implementation on the CPU.\n",
    "\n",
    "You should do the same for any other layer you implement."
   ]
  },
  {
   "cell_type": "code",
   "execution_count": 1,
   "id": "e49f726d",
   "metadata": {},
   "outputs": [],
   "source": [
    "import numpy as np\n",
    "\n",
    "import pyopencl as cl\n",
    "import pyopencl.array as cl_array\n",
    "import PyNetwork\n",
    "from PyNetwork.layers.Dense_GPU import Dense_GPU"
   ]
  },
  {
   "cell_type": "code",
   "execution_count": 2,
   "id": "5fba55a3",
   "metadata": {},
   "outputs": [],
   "source": [
    "input_shape = (10,)\n",
    "output_nodes = 100\n",
    "\n",
    "layer = PyNetwork.layers.Dense(output_nodes, 'relu')\n",
    "layer.build(input_shape)"
   ]
  },
  {
   "cell_type": "code",
   "execution_count": 3,
   "id": "e7cbe47b",
   "metadata": {},
   "outputs": [],
   "source": [
    "platform = cl.get_platforms()\n",
    "devices = platform[0].get_devices()\n",
    "context = cl.Context(devices)\n",
    "queue = cl.CommandQueue(context)\n",
    "\n",
    "layer_gpu = Dense_GPU(context = context, queue = queue, hidden_nodes = output_nodes, activation_function='relu')\n",
    "layer_gpu.build(input_shape)"
   ]
  },
  {
   "cell_type": "markdown",
   "id": "2adf5022",
   "metadata": {},
   "source": [
    "# Test Predict"
   ]
  },
  {
   "cell_type": "code",
   "execution_count": 4,
   "id": "0c7ce077",
   "metadata": {},
   "outputs": [],
   "source": [
    "n_datapoints = 20\n",
    "z_in = np.random.rand(n_datapoints, *input_shape).astype(np.float32) - 0.5\n",
    "\n",
    "a_true, z_out_true = layer.predict(z_in, output_only=False)"
   ]
  },
  {
   "cell_type": "code",
   "execution_count": 8,
   "id": "b076f754",
   "metadata": {},
   "outputs": [],
   "source": [
    "z_in_gpu = cl_array.to_device(queue, z_in)\n",
    "a_true_gpu, z_out_true_gpu = layer_gpu.predict(z_in_gpu, output_only=False)"
   ]
  },
  {
   "cell_type": "markdown",
   "id": "da68b92b",
   "metadata": {},
   "source": [
    "# Test Backprop"
   ]
  },
  {
   "cell_type": "code",
   "execution_count": 15,
   "id": "a54700ec",
   "metadata": {},
   "outputs": [],
   "source": [
    "g_prime = np.random.rand(n_datapoints, *input_shape).astype(np.float32)\n",
    "new_delta = np.random.rand(n_datapoints, output_nodes).astype(np.float32)\n",
    "\n",
    "delta_true = layer.get_delta_backprop_(g_prime, new_delta)"
   ]
  },
  {
   "cell_type": "code",
   "execution_count": 19,
   "id": "e81b0302",
   "metadata": {},
   "outputs": [],
   "source": [
    "g_prime_gpu = cl_array.to_device(queue, g_prime)\n",
    "new_delta_gpu =cl_array.to_device(queue, new_delta)\n",
    "\n",
    "delta_true_gpu = layer_gpu.get_delta_backprop_(g_prime_gpu, new_delta_gpu)"
   ]
  },
  {
   "cell_type": "markdown",
   "id": "97fbc8e7",
   "metadata": {},
   "source": [
    "# Test Weight Gradients"
   ]
  },
  {
   "cell_type": "code",
   "execution_count": 24,
   "id": "cfa1b041",
   "metadata": {},
   "outputs": [],
   "source": [
    "delta = np.random.rand(n_datapoints, *input_shape).astype(np.float32)\n",
    "prev_z = np.random.rand(n_datapoints, output_nodes).astype(np.float32)\n",
    "\n",
    "delta_grad_true, w_grad_true = layer.get_weight_grad_(delta, prev_z)"
   ]
  },
  {
   "cell_type": "code",
   "execution_count": 25,
   "id": "afa20b48",
   "metadata": {},
   "outputs": [],
   "source": [
    "delta_gpu= cl_array.to_device(queue, delta)\n",
    "prev_z_gpu =cl_array.to_device(queue, prev_z)\n",
    "\n",
    "delta_grad_true_gpu, w_grad_true_gpu = layer_gpu.get_weight_grad_(delta_gpu, prev_z_gpu)"
   ]
  }
 ],
 "metadata": {
  "kernelspec": {
   "display_name": "Python 3 (ipykernel)",
   "language": "python",
   "name": "python3"
  },
  "language_info": {
   "codemirror_mode": {
    "name": "ipython",
    "version": 3
   },
   "file_extension": ".py",
   "mimetype": "text/x-python",
   "name": "python",
   "nbconvert_exporter": "python",
   "pygments_lexer": "ipython3",
   "version": "3.10.9"
  }
 },
 "nbformat": 4,
 "nbformat_minor": 5
}
